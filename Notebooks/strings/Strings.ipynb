{
 "cells": [
  {
   "cell_type": "markdown",
   "metadata": {
    "graffitiCellId": "id_rxtuffz"
   },
   "source": [
    "# Strings Exercises"
   ]
  },
  {
   "cell_type": "markdown",
   "metadata": {
    "graffitiCellId": "id_zly0vr0"
   },
   "source": [
    "#### Intro "
   ]
  },
  {
   "cell_type": "markdown",
   "metadata": {
    "graffitiCellId": "id_xzj5890"
   },
   "source": [
    "Strings in Python are arrays of bytes representing unicode characters. In this exercise we are going to practice our work with string manipulation. "
   ]
  },
  {
   "cell_type": "markdown",
   "metadata": {
    "graffitiCellId": "id_2061hpl"
   },
   "source": [
    "#### Reverse Strings"
   ]
  },
  {
   "cell_type": "markdown",
   "metadata": {
    "graffitiCellId": "id_9w3bnlc"
   },
   "source": [
    "In this first exercise, the goal is to write a function that takes a string as input and then returns the reversed string.\n",
    "\n",
    "For example, if the input is the string `\"water\"`, then the output should be `\"retaw\"`.\n",
    "\n",
    "While you're working on the function and trying to figure out how to manipulate the string, it may help to use the `print` statement so you can see the effects of whatever you're trying."
   ]
  },
  {
   "cell_type": "code",
   "execution_count": 11,
   "metadata": {
    "graffitiCellId": "id_94vaivn"
   },
   "outputs": [],
   "source": [
    "# Code\n",
    "\n",
    "def string_reverser(our_string):\n",
    "\n",
    "    \"\"\"\n",
    "    Reverse the input string\n",
    "\n",
    "    Args:\n",
    "       our_string(string): String to be reversed\n",
    "    Returns:\n",
    "       string: The reversed string\n",
    "    \"\"\"\n",
    "    \n",
    "    # TODO: Write your solution here\n",
    "    string = \"\"\n",
    "    for i in range(len(our_string)-1,-1,-1):\n",
    "        string += our_string[i]\n",
    "    return string\n",
    "\n",
    "    # can't do the following as python strings are immutable, so they don't support assignment operationQ\n",
    "#     i, j = 0, len(our_string)-1\n",
    "#     while i < j:\n",
    "#         our_string[i], our_string[j] = our_string[j], our_string[i]\n",
    "#     print(our_string)\n",
    "#     return our_string"
   ]
  },
  {
   "cell_type": "code",
   "execution_count": 12,
   "metadata": {
    "graffitiCellId": "id_ab8t444"
   },
   "outputs": [
    {
     "data": {
      "text/plain": [
       "'retaw'"
      ]
     },
     "execution_count": 12,
     "metadata": {},
     "output_type": "execute_result"
    }
   ],
   "source": [
    "string_reverser('water')"
   ]
  },
  {
   "cell_type": "code",
   "execution_count": 13,
   "metadata": {
    "graffitiCellId": "id_5a1sq4g"
   },
   "outputs": [
    {
     "name": "stdout",
     "output_type": "stream",
     "text": [
      "Pass\n",
      "Pass\n",
      "Pass\n"
     ]
    }
   ],
   "source": [
    "# Test Cases\n",
    "\n",
    "print (\"Pass\" if ('retaw' == string_reverser('water')) else \"Fail\")\n",
    "print (\"Pass\" if ('!noitalupinam gnirts gnicitcarP' == string_reverser('Practicing string manipulation!')) else \"Fail\")\n",
    "print (\"Pass\" if ('3432 :si edoc esuoh ehT' == string_reverser('The house code is: 2343')) else \"Fail\")"
   ]
  },
  {
   "cell_type": "markdown",
   "metadata": {
    "graffitiCellId": "id_5y1c1sk"
   },
   "source": [
    "<span class=\"graffiti-highlight graffiti-id_5y1c1sk-id_8u3k1ve\"><i></i><button>Hide Solution</button></span>"
   ]
  },
  {
   "cell_type": "code",
   "execution_count": null,
   "metadata": {
    "graffitiCellId": "id_8u3k1ve"
   },
   "outputs": [],
   "source": [
    "# Solution\n",
    "\n",
    "def string_reverser(our_string):\n",
    "\n",
    "    \"\"\"\n",
    "    Reverse the input string\n",
    "\n",
    "    Args:\n",
    "       our_string(string): String to be reversed\n",
    "    Returns:\n",
    "       string: The reversed string\n",
    "    \"\"\"\n",
    "\n",
    "    # New empty string for us to build on\n",
    "    new_string = \"\"\n",
    "\n",
    "    # Iterate over old string\n",
    "    for i in range(len(our_string)):\n",
    "        # Grab the charecter from the back of the string and add them to the new string\n",
    "        new_string += our_string[(len(our_string)-1)-i]\n",
    "\n",
    "    # Return our solution\n",
    "    return new_string\n",
    "\n",
    "\n",
    "# Test Cases\n",
    "\n",
    "print (\"Pass\" if ('retaw' == string_reverser('water')) else \"Fail\")\n",
    "print (\"Pass\" if ('!noitalupinam gnirts gnicitcarP' == string_reverser('Practicing string manipulation!')) else \"Fail\")\n",
    "print (\"Pass\" if ('3432 :si edoc esuoh ehT' == string_reverser('The house code is: 2343')) else \"Fail\")\n"
   ]
  },
  {
   "cell_type": "markdown",
   "metadata": {
    "graffitiCellId": "id_sz1uyhy"
   },
   "source": [
    "#### Anagrams"
   ]
  },
  {
   "cell_type": "markdown",
   "metadata": {
    "graffitiCellId": "id_v8jn802"
   },
   "source": [
    "The goal of this exercise is to write some code to determine if two strings are anagrams of each other.\n",
    "\n",
    "An anagram is a word (or phrase) that is formed by rearranging the letters of another word (or phrase).\n",
    "\n",
    "For example:\n",
    "- \"rat\" is an anagram of \"art\"\n",
    "- \"alert\" is an anagram of \"alter\"\n",
    "- \"Slot machines\" is an anagram of \"Cash lost in me\"\n",
    "\n",
    "Your function should take two strings as input and return `True` if the two words are anagrams and `False` if they are not.\n",
    "\n",
    "You can assume the following about the input strings:\n",
    "- No punctuation\n",
    "- No numbers\n",
    "- No special characters"
   ]
  },
  {
   "cell_type": "code",
   "execution_count": 3,
   "metadata": {
    "graffitiCellId": "id_96z89ik"
   },
   "outputs": [],
   "source": [
    "# Code\n",
    "from collections import defaultdict\n",
    "\n",
    "def anagram_checker(str1, str2):\n",
    "\n",
    "    \"\"\"\n",
    "    Check if the input strings are anagrams of each other\n",
    "\n",
    "    Args:\n",
    "       str1(string),str2(string): Strings to be checked\n",
    "    Returns:\n",
    "       bool: Indicates whether strings are anagrams\n",
    "    \"\"\"\n",
    "    \n",
    "    \"\"\"\n",
    "    The solution provided with the notebook seems slightly wrong, it returns false when inputs are 'rat', 'art'. But \n",
    "    the idea is one of the correct approaches to solve this problem, i.e. sort them and see if they are equal. However,\n",
    "    I've solved the problem using hash-table (or dictionary).\n",
    "    \"\"\"\n",
    "    # TODO: Write your solution here\n",
    "    clean_str_1 = str1.replace(\" \",\"\").lower()\n",
    "    clean_str_2 = str2.replace(\" \",\"\").lower()\n",
    "    \n",
    "    if len(clean_str_1) != len(clean_str_2):\n",
    "        return False\n",
    "    \n",
    "    char_counts = defaultdict(lambda: 0)\n",
    "    \n",
    "    for char in clean_str_1:\n",
    "        if char != \" \":\n",
    "            char_counts[char.lower()] += 1\n",
    "            \n",
    "    for char in clean_str_2:\n",
    "        if char != \" \":\n",
    "            char_counts[char.lower()] -= 1\n",
    "            if char_counts[char.lower()] < 0:\n",
    "                return False\n",
    "            \n",
    "    return True"
   ]
  },
  {
   "cell_type": "code",
   "execution_count": 4,
   "metadata": {
    "graffitiCellId": "id_f1eekl6"
   },
   "outputs": [
    {
     "name": "stdout",
     "output_type": "stream",
     "text": [
      "Pass\n",
      "Pass\n",
      "Pass\n",
      "Pass\n",
      "Pass\n"
     ]
    }
   ],
   "source": [
    "# Test Cases\n",
    "\n",
    "print (\"Pass\" if not (anagram_checker('water','waiter')) else \"Fail\")\n",
    "print (\"Pass\" if anagram_checker('Dormitory','Dirty room') else \"Fail\")\n",
    "print (\"Pass\" if anagram_checker('Slot machines', 'Cash lost in me') else \"Fail\")\n",
    "print (\"Pass\" if not (anagram_checker('A gentleman','Elegant men')) else \"Fail\")\n",
    "print (\"Pass\" if anagram_checker('Time and tide wait for no man','Notified madman into water') else \"Fail\")"
   ]
  },
  {
   "cell_type": "markdown",
   "metadata": {
    "graffitiCellId": "id_hnedbqz"
   },
   "source": [
    "<span class=\"graffiti-highlight graffiti-id_hnedbqz-id_0ifjb4r\"><i></i><button>Hide Solution</button></span>"
   ]
  },
  {
   "cell_type": "code",
   "execution_count": 1,
   "metadata": {
    "graffitiCellId": "id_0ifjb4r"
   },
   "outputs": [
    {
     "name": "stdout",
     "output_type": "stream",
     "text": [
      "Pass\n",
      "Pass\n",
      "Pass\n",
      "Pass\n",
      "Pass\n"
     ]
    }
   ],
   "source": [
    "# Solution\n",
    "\n",
    "def anagram_checker(str1, str2):\n",
    "\n",
    "    \"\"\"\n",
    "    Check if the input strings are anagrams\n",
    "\n",
    "    Args:\n",
    "       str1(string),str2(string): Strings to be checked if they are anagrams\n",
    "    Returns:\n",
    "       bool: If strings are anagrams or not\n",
    "    \"\"\"\n",
    "\n",
    "    if len(str1) != len(str2):\n",
    "        # Clean strings\n",
    "        clean_str_1 = str1.replace(\" \", \"\").lower()\n",
    "        clean_str_2 = str2.replace(\" \", \"\").lower()\n",
    "\n",
    "        if sorted(clean_str_1) == sorted(clean_str_2):\n",
    "            return True\n",
    "\n",
    "    return False\n",
    "\n",
    "\n",
    "print (\"Pass\" if not (anagram_checker('water','waiter')) else \"Fail\")\n",
    "print (\"Pass\" if anagram_checker('Dormitory','Dirty room') else \"Fail\")\n",
    "print (\"Pass\" if anagram_checker('Slot machines', 'Cash lost in me') else \"Fail\")\n",
    "print (\"Pass\" if not (anagram_checker('A gentleman','Elegant men')) else \"Fail\")\n",
    "print (\"Pass\" if anagram_checker('Time and tide wait for no man','Notified madman into water') else \"Fail\")\n"
   ]
  },
  {
   "cell_type": "markdown",
   "metadata": {
    "graffitiCellId": "id_tz5wudt"
   },
   "source": [
    "#### Reverse the words in sentence"
   ]
  },
  {
   "cell_type": "markdown",
   "metadata": {
    "graffitiCellId": "id_ggu54in"
   },
   "source": [
    "Given a sentence, reverse each word in the sentence while keeping the order the same!"
   ]
  },
  {
   "cell_type": "code",
   "execution_count": 5,
   "metadata": {
    "graffitiCellId": "id_8datqoy"
   },
   "outputs": [],
   "source": [
    "# Code \n",
    "\n",
    "def word_flipper(our_string):\n",
    "\n",
    "    \"\"\"\n",
    "    Flip the individual words in a sentence\n",
    "\n",
    "    Args:\n",
    "       our_string(string): String with words to flip\n",
    "    Returns:\n",
    "       string: String with words flipped\n",
    "    \"\"\"\n",
    "    \n",
    "    # TODO: Write your solution here\n",
    "    \n",
    "    \"\"\"\n",
    "    Following was my first attempt which is an inefficient solution, as everytime I add to the string, a new string\n",
    "    gets created to which all the previously flipped words get copied, making that operation O(n^2). It's better to\n",
    "    use .join() operation which is O(n). Source: https://stackoverflow.com/questions/37133547/time-complexity-of-string-concatenation-in-python\n",
    "    \n",
    "    string = \"\"\n",
    "    for word in our_string.split():\n",
    "        string += string_reverser(word) + \" \"\n",
    "    return string[:-1] # ignoring the last space\n",
    "    \"\"\"\n",
    "    \n",
    "    flipped_word_list = []\n",
    "    for word in our_string.split():\n",
    "        flipped_word_list.append(word[::-1])\n",
    "\n",
    "    return \" \".join(flipped_word_list)"
   ]
  },
  {
   "cell_type": "code",
   "execution_count": 6,
   "metadata": {
    "graffitiCellId": "id_0rpbyd2"
   },
   "outputs": [
    {
     "name": "stdout",
     "output_type": "stream",
     "text": [
      "Pass\n",
      "Pass\n",
      "Pass\n"
     ]
    }
   ],
   "source": [
    "# Test Cases\n",
    "\n",
    "print (\"Pass\" if ('retaw' == word_flipper('water')) else \"Fail\")\n",
    "print (\"Pass\" if ('sihT si na elpmaxe' == word_flipper('This is an example')) else \"Fail\")\n",
    "print (\"Pass\" if ('sihT si eno llams pets rof ...' == word_flipper('This is one small step for ...')) else \"Fail\")"
   ]
  },
  {
   "cell_type": "markdown",
   "metadata": {
    "graffitiCellId": "id_ttzcm4k"
   },
   "source": [
    "<span class=\"graffiti-highlight graffiti-id_ttzcm4k-id_m6frlmt\"><i></i><button>Hide Solution</button></span>"
   ]
  },
  {
   "cell_type": "code",
   "execution_count": null,
   "metadata": {
    "graffitiCellId": "id_m6frlmt"
   },
   "outputs": [],
   "source": [
    "# Solution\n",
    "\n",
    "def word_flipper(our_string):\n",
    "\n",
    "    \"\"\"\n",
    "    Flip the individual words in a sentence\n",
    "\n",
    "    Args:\n",
    "       our_string(string): Strings to have individual words flip\n",
    "    Returns:\n",
    "       string: String with words flipped\n",
    "    \"\"\"\n",
    "\n",
    "    word_list = our_string.split(\" \")\n",
    "\n",
    "    for idx in range(len(word_list)):\n",
    "        word_list[idx] = word_list[idx][::-1]\n",
    "\n",
    "    return \" \".join(word_list)\n",
    "\n",
    "print (\"Pass\" if ('retaw' == word_flipper('water')) else \"Fail\")\n",
    "print (\"Pass\" if ('sihT si na elpmaxe' == word_flipper('This is an example')) else \"Fail\")\n",
    "print (\"Pass\" if ('sihT si eno llams pets rof ...' == word_flipper('This is one small step for ...')) else \"Fail\")\n"
   ]
  },
  {
   "cell_type": "markdown",
   "metadata": {
    "graffitiCellId": "id_4422nbp"
   },
   "source": [
    "#### Hamming Distance"
   ]
  },
  {
   "cell_type": "markdown",
   "metadata": {
    "graffitiCellId": "id_fz4qros"
   },
   "source": [
    "In information theory, the Hamming distance between two strings of equal length is the number of positions at which the corresponding symbols are different. Calculate the Hamming distace for the following test cases."
   ]
  },
  {
   "cell_type": "code",
   "execution_count": 7,
   "metadata": {
    "graffitiCellId": "id_a0xltk3"
   },
   "outputs": [],
   "source": [
    "# Code\n",
    "\n",
    "def hamming_distance(str1, str2):\n",
    "\n",
    "    \"\"\"\n",
    "    Calculate the hamming distance of the two strings\n",
    "\n",
    "    Args:\n",
    "       str1(string),str2(string): Strings to be used for finding the hamming distance\n",
    "    Returns:\n",
    "       int: Hamming Distance\n",
    "    \"\"\"\n",
    "    \n",
    "    # TODO: Write your solution here\n",
    "    if len(str1) == len(str2):\n",
    "        hamming_dist = 0\n",
    "        for p, q in zip(str1, str2):\n",
    "            if p != q:\n",
    "                hamming_dist += 1\n",
    "        return hamming_dist"
   ]
  },
  {
   "cell_type": "code",
   "execution_count": 37,
   "metadata": {
    "graffitiCellId": "id_9vbn2ol"
   },
   "outputs": [
    {
     "name": "stdout",
     "output_type": "stream",
     "text": [
      "Pass\n",
      "Pass\n",
      "Pass\n",
      "Pass\n",
      "Pass\n"
     ]
    }
   ],
   "source": [
    "# Test Cases\n",
    "\n",
    "print (\"Pass\" if (10 == hamming_distance('ACTTGACCGGG','GATCCGGTACA')) else \"Fail\")\n",
    "print (\"Pass\" if  (1 == hamming_distance('shove','stove')) else \"Fail\")\n",
    "print (\"Pass\" if  (None == hamming_distance('Slot machines', 'Cash lost in me')) else \"Fail\")\n",
    "print (\"Pass\" if  (9 == hamming_distance('A gentleman','Elegant men')) else \"Fail\")\n",
    "print (\"Pass\" if  (2 == hamming_distance('0101010100011101','0101010100010001')) else \"Fail\")"
   ]
  },
  {
   "cell_type": "markdown",
   "metadata": {
    "graffitiCellId": "id_uor0wb6"
   },
   "source": [
    "<span class=\"graffiti-highlight graffiti-id_kddwu3s-id_u1nzuf0\"><i></i><button>Hide Solution</button></span>"
   ]
  },
  {
   "cell_type": "code",
   "execution_count": null,
   "metadata": {
    "graffitiCellId": "id_u1nzuf0"
   },
   "outputs": [],
   "source": [
    "# Solution\n",
    "\n",
    "def hamming_distance(str1, str2):\n",
    "\n",
    "    \"\"\"\n",
    "    Calculate the hamming distance of the two strings\n",
    "\n",
    "    Args:\n",
    "       str1(string),str2(string): Strings to be used for finding the hamming distance\n",
    "    Returns:\n",
    "       int: Hamming Distance\n",
    "    \"\"\"\n",
    "\n",
    "    if len(str1) == len(str2):\n",
    "        count = 0\n",
    "\n",
    "        for char in range(len(str1)):\n",
    "            if str1[char] != str2[char]:\n",
    "                count+=1\n",
    "\n",
    "        return count\n",
    "\n",
    "    return None\n",
    "\n",
    "\n",
    "\n",
    "print (\"Pass\" if (10 == hamming_distance('ACTTGACCGGG','GATCCGGTACA')) else \"Fail\")\n",
    "print (\"Pass\" if  (1 == hamming_distance('shove','stove')) else \"Fail\")\n",
    "print (\"Pass\" if  (None == hamming_distance('Slot machines', 'Cash lost in me')) else \"Fail\")\n",
    "print (\"Pass\" if  (9 == hamming_distance('A gentleman','Elegant men')) else \"Fail\")\n",
    "print (\"Pass\" if  (2 == hamming_distance('0101010100011101','0101010100010001')) else \"Fail\")\n"
   ]
  }
 ],
 "metadata": {
  "graffiti": {
   "firstAuthorId": "10694620118",
   "id": "id_cwbhghd",
   "language": "EN"
  },
  "kernelspec": {
   "display_name": "Python 3",
   "language": "python",
   "name": "python3"
  },
  "language_info": {
   "codemirror_mode": {
    "name": "ipython",
    "version": 3
   },
   "file_extension": ".py",
   "mimetype": "text/x-python",
   "name": "python",
   "nbconvert_exporter": "python",
   "pygments_lexer": "ipython3",
   "version": "3.7.4"
  },
  "widgets": {
   "state": {},
   "version": "1.1.2"
  }
 },
 "nbformat": 4,
 "nbformat_minor": 2
}
