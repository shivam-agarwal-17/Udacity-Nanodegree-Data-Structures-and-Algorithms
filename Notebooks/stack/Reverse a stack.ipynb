{
 "cells": [
  {
   "cell_type": "markdown",
   "metadata": {
    "graffitiCellId": "id_hq1fj3i"
   },
   "source": [
    "### Problem Statement\n",
    "\n",
    "Reverse a stack. If your stack initially has `1, 2, 3, 4` (4 at the top and 1 at the bottom), after reversing the order must be `4, 3, 2, 1` (4 at the bottom and 1 at the top)."
   ]
  },
  {
   "cell_type": "code",
   "execution_count": 27,
   "metadata": {
    "graffitiCellId": "id_xqjrfe4"
   },
   "outputs": [],
   "source": [
    "class LinkedListNode:\n",
    "\n",
    "    def __init__(self, data):\n",
    "        self.data = data\n",
    "        self.next = None\n",
    "\n",
    "class Stack:\n",
    "\n",
    "    def __init__(self):\n",
    "        self.num_elements = 0\n",
    "        self.head = None\n",
    "\n",
    "    def push(self, data):\n",
    "        new_node = LinkedListNode(data)\n",
    "        if self.head is None:\n",
    "            self.head = new_node\n",
    "        else:\n",
    "            new_node.next = self.head\n",
    "            self.head = new_node\n",
    "        self.num_elements += 1\n",
    "\n",
    "    def pop(self):\n",
    "        if self.is_empty():\n",
    "            return None\n",
    "        temp = self.head.data\n",
    "        self.head = self.head.next\n",
    "        self.num_elements -= 1\n",
    "        return temp\n",
    "\n",
    "    def top(self):\n",
    "        if self.head is None:\n",
    "            return None\n",
    "        return self.head.data\n",
    "\n",
    "    def size(self):\n",
    "        return self.num_elements\n",
    "\n",
    "    def is_empty(self):\n",
    "        return self.num_elements == 0\n"
   ]
  },
  {
   "cell_type": "code",
   "execution_count": 28,
   "metadata": {
    "graffitiCellId": "id_a24mp8r"
   },
   "outputs": [],
   "source": [
    "def _move_stack_recursion(stack, holder_stack):\n",
    "    '''Moves elements from holder_stack to stack, maintaing original order'''\n",
    "    if holder_stack.is_empty():\n",
    "        return\n",
    "    popped = holder_stack.pop()\n",
    "    _move_stack_recursion(stack, holder_stack)\n",
    "    stack.push(popped)\n",
    "\n",
    "def reverse_stack(stack):\n",
    "    \"\"\"\n",
    "    Reverse a given input stack\n",
    "\n",
    "    Args:\n",
    "       stack(stack): Input stack to be reversed\n",
    "    Returns:\n",
    "       stack: Reversed Stack\n",
    "    \"\"\"\n",
    "    \n",
    "    # TODO: Write the reverse stack function\n",
    "    \n",
    "    # Note: From function desctiption, it looks like we want the original stack to be reversed so we can't \n",
    "    # return a new stack variable. \n",
    "    \n",
    "    ## Solution with using extra space for holder stack variable - same as solution given here.\n",
    "    # moving elements from stack to holder_stack (to reverse order)\n",
    "    holder_stack = Stack()\n",
    "    while not stack.is_empty():\n",
    "        holder_stack.push(stack.pop())\n",
    "    # moving elements back to original stack variable maintaing holder_stack's order (i.e. reversed order)\n",
    "    _move_stack_recursion(stack, holder_stack)\n",
    "    \n",
    "    ## For solution without using extra space for holder stack variable, see following cell\n",
    "    "
   ]
  },
  {
   "cell_type": "code",
   "execution_count": 29,
   "metadata": {
    "graffitiCellId": "id_f0g64hy"
   },
   "outputs": [],
   "source": [
    "def _insert_at_bottom(stack, el):\n",
    "    if stack.is_empty():\n",
    "        stack.push(el)\n",
    "        return\n",
    "    popped = stack.pop()\n",
    "    _insert_at_bottom(stack, el)\n",
    "    stack.push(popped)\n",
    "\n",
    "def reverse_stack_inplace(stack):\n",
    "    '''\n",
    "    Source: https://www.geeksforgeeks.org/reverse-a-stack-using-recursion/\n",
    "    '''\n",
    "    if stack.is_empty():\n",
    "        return\n",
    "    popped = stack.pop()\n",
    "    reverse_stack_inplace(stack)\n",
    "    _insert_at_bottom(stack, popped)\n",
    "        "
   ]
  },
  {
   "cell_type": "code",
   "execution_count": 30,
   "metadata": {
    "graffitiCellId": "id_imla98p"
   },
   "outputs": [],
   "source": [
    "def test_function(test_case):\n",
    "    stack = Stack()\n",
    "    for num in test_case:\n",
    "        stack.push(num)\n",
    "    \n",
    "    reverse_stack(stack)\n",
    "#     reverse_stack_inplace(stack)\n",
    "    index = 0\n",
    "    while not stack.is_empty():\n",
    "        popped = stack.pop()\n",
    "        if popped != test_case[index]:\n",
    "            print(\"Fail\")\n",
    "            return\n",
    "        else:\n",
    "            index += 1\n",
    "    print(\"Pass\")\n",
    "    "
   ]
  },
  {
   "cell_type": "code",
   "execution_count": 31,
   "metadata": {
    "graffitiCellId": "id_wcdhfg1"
   },
   "outputs": [
    {
     "name": "stdout",
     "output_type": "stream",
     "text": [
      "Pass\n"
     ]
    }
   ],
   "source": [
    "test_case_1 = [1, 2, 3, 4]\n",
    "test_function(test_case_1)"
   ]
  },
  {
   "cell_type": "code",
   "execution_count": 32,
   "metadata": {
    "graffitiCellId": "id_we36dv7"
   },
   "outputs": [
    {
     "name": "stdout",
     "output_type": "stream",
     "text": [
      "Pass\n"
     ]
    }
   ],
   "source": [
    "test_case_2 = [1]\n",
    "test_function(test_case_2)"
   ]
  },
  {
   "cell_type": "markdown",
   "metadata": {
    "graffitiCellId": "id_b1tqoxn"
   },
   "source": [
    "<span class=\"graffiti-highlight graffiti-id_b1tqoxn-id_br7koal\"><i></i><button>Show Solution</button></span>"
   ]
  }
 ],
 "metadata": {
  "graffiti": {
   "firstAuthorId": "10694620118",
   "id": "id_uouib6j",
   "language": "EN"
  },
  "kernelspec": {
   "display_name": "Python 3",
   "language": "python",
   "name": "python3"
  },
  "language_info": {
   "codemirror_mode": {
    "name": "ipython",
    "version": 3
   },
   "file_extension": ".py",
   "mimetype": "text/x-python",
   "name": "python",
   "nbconvert_exporter": "python",
   "pygments_lexer": "ipython3",
   "version": "3.6.3"
  }
 },
 "nbformat": 4,
 "nbformat_minor": 2
}
