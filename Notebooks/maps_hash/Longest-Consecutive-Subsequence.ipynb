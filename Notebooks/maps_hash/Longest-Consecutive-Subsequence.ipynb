{
 "cells": [
  {
   "cell_type": "markdown",
   "metadata": {
    "graffitiCellId": "id_vhxf50c"
   },
   "source": [
    "### Problem Statement\n",
    "\n",
    "Given list of integers that contain numbers in random order, write a program to find the longest possible sub sequence of consecutive numbers in the array. Return this subsequence in sorted order. The solution must take O(n) time\n",
    "\n",
    "For e.g. given the list `5, 4, 7, 10, 1, 3, 55, 2`, the output should be `1, 2, 3, 4, 5`\n",
    "\n",
    "*Note- If two arrays are of equal length return the array whose index of smallest element comes first.*\n",
    "\n"
   ]
  },
  {
   "cell_type": "code",
   "execution_count": 34,
   "metadata": {
    "graffitiCellId": "id_eaee7mz"
   },
   "outputs": [],
   "source": [
    "def longest_consecutive_subsequence(input_list):\n",
    "    # TODO: Write longest consecutive subsequence solution\n",
    "    \n",
    "    '''\n",
    "    NOTE: found the attached solution confusing, so referred another solution: \n",
    "    https://www.geeksforgeeks.org/longest-consecutive-subsequence/ and modified \n",
    "    it for given problem statement. It might seem that the time complexity \n",
    "    of the solution is O(n * n), but if we look at the second for loop, an element\n",
    "    is searched only if the preceding element is not found in the dictionary. So, the inner\n",
    "    for loop can only run for n iterations throughout the entire runtime of the algorithm. \n",
    "    This means that nested loops actually run in O(n + n) or O(n) time (assuming, of course, \n",
    "    that insert and look-up operation for dict() is O(1))\n",
    "    '''\n",
    "    \n",
    "    element_dict = dict()\n",
    "    max_length = -1\n",
    "    starts_at = len(input_list)\n",
    "    \n",
    "    # iterate over the list and store element in a suitable data structure\n",
    "    for idx, element in enumerate(input_list):\n",
    "        element_dict[element] = -1\n",
    "    \n",
    "    # traverse / go over the data structure in a reasonable order to determine the solution\n",
    "    for idx, element in enumerate(input_list):\n",
    "        if element - 1 in element_dict:\n",
    "            continue\n",
    "        else:\n",
    "            current_length = 1\n",
    "            current = element + 1\n",
    "            while current in element_dict:\n",
    "                current += 1\n",
    "                current_length += 1\n",
    "            \n",
    "            if current_length > max_length:\n",
    "                starts_at = idx\n",
    "                max_length = current_length \n",
    "            elif current_length == max_length:\n",
    "                if idx < starts_at:\n",
    "                    starts_at = idx\n",
    "            \n",
    "    return [input_list[starts_at]+offset for offset in range(max_length)] \n",
    "        \n",
    "    \n",
    "    \n"
   ]
  },
  {
   "cell_type": "code",
   "execution_count": 35,
   "metadata": {
    "graffitiCellId": "id_hlznh6q"
   },
   "outputs": [],
   "source": [
    "def test_function(test_case):\n",
    "    output = longest_consecutive_subsequence(test_case[0])\n",
    "    print(output)\n",
    "    if output == test_case[1]:\n",
    "        print(\"Pass\")\n",
    "    else:\n",
    "        print(\"Fail\")\n",
    "    "
   ]
  },
  {
   "cell_type": "code",
   "execution_count": 36,
   "metadata": {
    "graffitiCellId": "id_z2y7gsr"
   },
   "outputs": [
    {
     "name": "stdout",
     "output_type": "stream",
     "text": [
      "[1, 2, 3, 4, 5]\n",
      "Pass\n"
     ]
    }
   ],
   "source": [
    "test_case_1 = [[5, 4, 7, 10, 1, 3, 55, 2], [1, 2, 3, 4, 5]]\n",
    "test_function(test_case_1)"
   ]
  },
  {
   "cell_type": "code",
   "execution_count": 37,
   "metadata": {
    "graffitiCellId": "id_a3yf5ol"
   },
   "outputs": [
    {
     "name": "stdout",
     "output_type": "stream",
     "text": [
      "[8, 9, 10, 11, 12]\n",
      "Pass\n"
     ]
    }
   ],
   "source": [
    "test_case_2 = [[2, 12, 9, 16, 10, 5, 3, 20, 25, 11, 1, 8, 6 ], [8, 9, 10, 11, 12]]\n",
    "test_function(test_case_2)"
   ]
  },
  {
   "cell_type": "code",
   "execution_count": 38,
   "metadata": {
    "graffitiCellId": "id_u5rs0q7"
   },
   "outputs": [
    {
     "name": "stdout",
     "output_type": "stream",
     "text": [
      "[0, 1, 2, 3, 4]\n",
      "Pass\n"
     ]
    }
   ],
   "source": [
    "test_case_3 = [[0, 1, 2, 3, 4], [0, 1, 2, 3, 4]]\n",
    "test_function(test_case_3)"
   ]
  },
  {
   "cell_type": "markdown",
   "metadata": {
    "graffitiCellId": "id_et1ek54"
   },
   "source": [
    "<span class=\"graffiti-highlight graffiti-id_et1ek54-id_r15x1vg\"><i></i><button>Show Solution</button></span>"
   ]
  }
 ],
 "metadata": {
  "graffiti": {
   "firstAuthorId": "10694620118",
   "id": "id_alotytm",
   "language": "EN"
  },
  "kernelspec": {
   "display_name": "Python 3",
   "language": "python",
   "name": "python3"
  },
  "language_info": {
   "codemirror_mode": {
    "name": "ipython",
    "version": 3
   },
   "file_extension": ".py",
   "mimetype": "text/x-python",
   "name": "python",
   "nbconvert_exporter": "python",
   "pygments_lexer": "ipython3",
   "version": "3.6.3"
  }
 },
 "nbformat": 4,
 "nbformat_minor": 2
}
