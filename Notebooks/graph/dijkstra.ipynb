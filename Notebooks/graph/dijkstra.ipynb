{
 "cells": [
  {
   "cell_type": "markdown",
   "metadata": {
    "graffitiCellId": "id_0ojz955"
   },
   "source": [
    "# Dijkstra's Algorithm\n",
    "In this exercise, you'll implement Dijkstra's algorithm. First, let's build the graph.\n",
    "## Graph Representation\n",
    "In order to run Dijkstra's Algorithm, we'll need to add distance to each edge. We'll use the `GraphEdge` class below to represent each edge between a node."
   ]
  },
  {
   "cell_type": "code",
   "execution_count": 2,
   "metadata": {
    "graffitiCellId": "id_popacit"
   },
   "outputs": [],
   "source": [
    "class GraphEdge(object):\n",
    "    def __init__(self, node, distance):\n",
    "        self.node = node\n",
    "        self.distance = distance"
   ]
  },
  {
   "cell_type": "markdown",
   "metadata": {
    "graffitiCellId": "id_ljgv5p0"
   },
   "source": [
    "The new graph representation should look like this:"
   ]
  },
  {
   "cell_type": "code",
   "execution_count": 3,
   "metadata": {
    "graffitiCellId": "id_llarxxs"
   },
   "outputs": [],
   "source": [
    "class GraphNode(object):\n",
    "    def __init__(self, val):\n",
    "        self.value = val\n",
    "        self.edges = []\n",
    "\n",
    "    def add_child(self, node, distance):\n",
    "        self.edges.append(GraphEdge(node, distance))\n",
    "\n",
    "    def remove_child(self, del_node):\n",
    "        if del_node in self.edges:\n",
    "            self.edges.remove(del_node)\n",
    "        \n",
    "    # newly added, in order to use heapq\n",
    "    def __gt__(self, node):\n",
    "        return self.value > node.value\n",
    "\n",
    "class Graph(object):\n",
    "    def __init__(self, node_list):\n",
    "        self.nodes = node_list\n",
    "\n",
    "    def add_edge(self, node1, node2, distance):\n",
    "        if node1 in self.nodes and node2 in self.nodes:\n",
    "            node1.add_child(node2, distance)\n",
    "            node2.add_child(node1, distance)\n",
    "\n",
    "    def remove_edge(self, node1, node2):\n",
    "        if node1 in self.nodes and node2 in self.nodes:\n",
    "            node1.remove_child(node2)\n",
    "            node2.remove_child(node1)"
   ]
  },
  {
   "cell_type": "markdown",
   "metadata": {
    "graffitiCellId": "id_2m0r1p6"
   },
   "source": [
    "Now let's create the graph."
   ]
  },
  {
   "cell_type": "code",
   "execution_count": 4,
   "metadata": {
    "graffitiCellId": "id_9zgbdrn"
   },
   "outputs": [],
   "source": [
    "node_u = GraphNode('U')\n",
    "node_d = GraphNode('D')\n",
    "node_a = GraphNode('A')\n",
    "node_c = GraphNode('C')\n",
    "node_i = GraphNode('I')\n",
    "node_t = GraphNode('T')\n",
    "node_y = GraphNode('Y')\n",
    "\n",
    "graph = Graph([node_u, node_d, node_a, node_c, node_i, node_t, node_y])\n",
    "graph.add_edge(node_u, node_a, 4)\n",
    "graph.add_edge(node_u, node_c, 6)\n",
    "graph.add_edge(node_u, node_d, 3)\n",
    "graph.add_edge(node_d, node_u, 3)\n",
    "graph.add_edge(node_d, node_c, 4)\n",
    "graph.add_edge(node_a, node_u, 4)\n",
    "graph.add_edge(node_a, node_i, 7)\n",
    "graph.add_edge(node_c, node_d, 4)\n",
    "graph.add_edge(node_c, node_u, 6)\n",
    "graph.add_edge(node_c, node_i, 4)\n",
    "graph.add_edge(node_c, node_t, 5)\n",
    "graph.add_edge(node_i, node_a, 7)\n",
    "graph.add_edge(node_i, node_c, 4)\n",
    "graph.add_edge(node_i, node_y, 4)\n",
    "graph.add_edge(node_t, node_c, 5)\n",
    "graph.add_edge(node_t, node_y, 5)\n",
    "graph.add_edge(node_y, node_i, 4)\n",
    "graph.add_edge(node_y, node_t, 5)"
   ]
  },
  {
   "cell_type": "markdown",
   "metadata": {
    "graffitiCellId": "id_v79ttrc"
   },
   "source": [
    "## Implementation\n",
    "Using what you've learned, implement Dijkstra's Algorithm to find the shortest distance from the \"U\" node to the \"Y\" node. "
   ]
  },
  {
   "cell_type": "code",
   "execution_count": 12,
   "metadata": {
    "graffitiCellId": "id_zx9fvl9"
   },
   "outputs": [
    {
     "name": "stdout",
     "output_type": "stream",
     "text": [
      "Shortest Distance from U to Y is 14\n"
     ]
    }
   ],
   "source": [
    "import math\n",
    "from heapq import heappop, heappush, heapify\n",
    "\n",
    "'''\n",
    "NOTE: Please see my final implementation in the following cells. The one in this cell has some\n",
    "shortcommings as described in the comments.\n",
    "UPDATE: The best latest and greatest solution is in final cell.\n",
    "'''\n",
    "\n",
    "class HeapNode:\n",
    "    def __init__(self, node, distance):\n",
    "        self.node = node\n",
    "        self.distance = distance\n",
    "        \n",
    "    def __gt__(self, node):\n",
    "        return self.distance > node.distance\n",
    "\n",
    "def dijkstra(start_node, end_node):\n",
    "    \n",
    "    graph_node_to_heap_node = dict()\n",
    "    h = []\n",
    "    \n",
    "    graph_node_to_heap_node[start_node] = HeapNode(start_node, 0)\n",
    "    heappush(h, graph_node_to_heap_node[start_node])\n",
    "    \n",
    "    while len(h) > 0:\n",
    "        current_heap_node = heappop(h)\n",
    "        if current_heap_node.node == end_node: # when end_node is popped, return distance\n",
    "            return current_heap_node.distance\n",
    "        \n",
    "        for edge in current_heap_node.node.edges:\n",
    "            if edge.node not in graph_node_to_heap_node:\n",
    "                graph_node_to_heap_node[edge.node] = HeapNode(edge.node, current_heap_node.distance + edge.distance)\n",
    "                heappush(h, graph_node_to_heap_node[edge.node])\n",
    "            else:\n",
    "                heap_node = graph_node_to_heap_node[edge.node]\n",
    "                if heap_node.distance > current_heap_node.distance + edge.distance:\n",
    "                    heap_node.distance = current_heap_node.distance + edge.distance\n",
    "                    heapify(h) # Instead of doing this heapify to update the heap order, I can just\n",
    "# push a new heap node with updated distance again to the heap. Because, heapify() represents\n",
    "# build-heap operation and could be O(N), where inserting a new node to the heap would be O(logN). \n",
    "# But now, if I were to insert another node, there will be two nodes in the heap\n",
    "# corresponding to same graph node, and we don't want to explore the node two times. We only want \n",
    "# to explore it (as in look at its children), when it is popped the first time that corresponds to \n",
    "# smaller distace from start_node. So, we can maintain a set of explored nodes, and if a popped node\n",
    "# is explored already, we continue. \n",
    "                    \n",
    "# Also interestingly, now that I don't want to update some attribute of heap-node and then, heapify().\n",
    "# I can just use a tuple inseated of my HeapNode class, that would save some memmory. I had decided to\n",
    "# create the class earlier, since tuple is immutable in Python. \n",
    "\n",
    "#UPDTE: even solution is next cell is not very clean. See the following cell for cleanest solution.\n",
    "\n",
    "print('Shortest Distance from {} to {} is {}'.format(node_u.value, node_y.value, dijkstra(node_u, node_y)))"
   ]
  },
  {
   "cell_type": "markdown",
   "metadata": {
    "graffitiCellId": "id_eld5vfc"
   },
   "source": [
    "One shortcomming of the previous implementation as described in comments inside the function have led me to re-implementing the stuff in following manner."
   ]
  },
  {
   "cell_type": "code",
   "execution_count": 13,
   "metadata": {
    "graffitiCellId": "id_xmfo0f7"
   },
   "outputs": [
    {
     "name": "stdout",
     "output_type": "stream",
     "text": [
      "Shortest Distance from U to Y is 14\n"
     ]
    }
   ],
   "source": [
    "# This solution works but is not very clean, see next cell.\n",
    "def dijkstra(start_node, end_node):\n",
    "    \n",
    "    node_to_smallest_distance = dict() # dicionary from node to smallest-distance-from-start_node\n",
    "    h = [] # heap\n",
    "    explored_nodes = set() # set of explored nodes\n",
    "    \n",
    "    node_to_smallest_distance[start_node] = 0\n",
    "    heappush(h, (0, start_node)) # in order to do this, I have added a custom comparator to\n",
    "    # class GraphNode, as if distances of two heap nodes match, heapq would try to push in \n",
    "    # lexicographic order and for that it would demand that the objects of class GraphNode be comparable.\n",
    "    \n",
    "    while len(h) > 0:\n",
    "        current_distance_from_start, current_node = heappop(h)\n",
    "        if current_node in explored_nodes:\n",
    "            continue\n",
    "        \n",
    "        explored_nodes.add(current_node) \n",
    "        \n",
    "        for edge in current_node.edges:\n",
    "            new_distance = current_distance_from_start + edge.distance\n",
    "            \n",
    "            if edge.node not in node_to_smallest_distance:\n",
    "                node_to_smallest_distance[edge.node] = new_distance\n",
    "                heappush(h, (new_distance, edge.node))\n",
    "            else:\n",
    "                prev_distance = node_to_smallest_distance[edge.node]\n",
    "                if prev_distance > new_distance:\n",
    "                    node_to_smallest_distance[edge.node] = new_distance\n",
    "                    heappush(h, (new_distance, edge.node))\n",
    "\n",
    "    return node_to_smallest_distance[end_node] # can also return, as soon as end node is popped\n",
    "# from the heap to save ourselves from exploring further nodes\n",
    "\n",
    "print('Shortest Distance from {} to {} is {}'.format(node_u.value, node_y.value, dijkstra(node_u, node_y)))"
   ]
  },
  {
   "cell_type": "code",
   "execution_count": 14,
   "metadata": {},
   "outputs": [
    {
     "name": "stdout",
     "output_type": "stream",
     "text": [
      "Shortest Distance from U to Y is 14\n"
     ]
    }
   ],
   "source": [
    "# This is a clean solution, along the same lines implementation of A-star. Basically, don’t need to maintain a \n",
    "# dictionary of smallest distance, can simply push to heap with new distance, if it’s smaller, it’ll be popped first. \n",
    "# Also, added the check that push to heap only if not explored.\n",
    "\n",
    "def dijkstra(start_node, end_node):\n",
    "    \n",
    "    h = [] # heap\n",
    "    explored_nodes = set() # set of explored nodes\n",
    "    \n",
    "    heappush(h, (0, start_node)) # in order to do this, I have added a custom comparator to\n",
    "    # class GraphNode, as if distances of two heap nodes match, heapq would try to push in \n",
    "    # lexicographic order and for that it would demand that the objects of class GraphNode be comparable.\n",
    "    \n",
    "    while len(h) > 0:\n",
    "        current_distance_from_start, current_node = heappop(h)\n",
    "        if current_node in explored_nodes:\n",
    "            continue\n",
    "        \n",
    "        if end_node == current_node:\n",
    "            return current_distance_from_start\n",
    "        \n",
    "        explored_nodes.add(current_node) \n",
    "        \n",
    "        for edge in current_node.edges:\n",
    "            if edge.node in explored_nodes:\n",
    "                continue\n",
    "                \n",
    "            new_distance = current_distance_from_start + edge.distance\n",
    "            heappush(h, (new_distance, edge.node))\n",
    "            \n",
    "print('Shortest Distance from {} to {} is {}'.format(node_u.value, node_y.value, dijkstra(node_u, node_y)))"
   ]
  },
  {
   "cell_type": "markdown",
   "metadata": {
    "graffitiCellId": "id_6vmf0hp"
   },
   "source": [
    "<span class=\"graffiti-highlight graffiti-id_6vmf0hp-id_cjtybve\"><i></i><button>Show Solution</button></span>"
   ]
  }
 ],
 "metadata": {
  "graffiti": {
   "firstAuthorId": "dev",
   "id": "id_xw4if85",
   "language": "EN"
  },
  "kernelspec": {
   "display_name": "Python 3",
   "language": "python",
   "name": "python3"
  },
  "language_info": {
   "codemirror_mode": {
    "name": "ipython",
    "version": 3
   },
   "file_extension": ".py",
   "mimetype": "text/x-python",
   "name": "python",
   "nbconvert_exporter": "python",
   "pygments_lexer": "ipython3",
   "version": "3.7.4"
  }
 },
 "nbformat": 4,
 "nbformat_minor": 2
}
