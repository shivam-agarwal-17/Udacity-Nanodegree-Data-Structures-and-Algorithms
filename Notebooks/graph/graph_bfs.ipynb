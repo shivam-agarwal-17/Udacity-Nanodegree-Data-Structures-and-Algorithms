{
 "cells": [
  {
   "cell_type": "markdown",
   "metadata": {
    "graffitiCellId": "id_19cls48"
   },
   "source": [
    "# Graph Breadth First Search\n",
    "In this exercise, you'll see how to do a breadth first search on a graph. To start, let's create a graph class in Python."
   ]
  },
  {
   "cell_type": "code",
   "execution_count": 44,
   "metadata": {
    "graffitiCellId": "id_pmkelaq"
   },
   "outputs": [],
   "source": [
    "class GraphNode(object):\n",
    "    def __init__(self, val):\n",
    "        self.value = val\n",
    "        self.children = []\n",
    "        \n",
    "    def add_child(self,new_node):\n",
    "        self.children.append(new_node)\n",
    "    \n",
    "    def remove_child(self,del_node):\n",
    "        if del_node in self.children:\n",
    "            self.children.remove(del_node)\n",
    "            \n",
    "    def __repr__(self):\n",
    "        return self.value\n",
    "\n",
    "class Graph(object):\n",
    "    def __init__(self,node_list):\n",
    "        self.nodes = node_list\n",
    "        \n",
    "    def add_edge(self,node1,node2):\n",
    "        if(node1 in self.nodes and node2 in self.nodes):\n",
    "            node1.add_child(node2)\n",
    "            node2.add_child(node1)\n",
    "            \n",
    "    def remove_edge(self,node1,node2):\n",
    "        if(node1 in self.nodes and node2 in self.nodes):\n",
    "            node1.remove_child(node2)\n",
    "            node2.remove_child(node1)"
   ]
  },
  {
   "cell_type": "markdown",
   "metadata": {
    "graffitiCellId": "id_dk66y5p"
   },
   "source": [
    "Now let's create the graph."
   ]
  },
  {
   "cell_type": "code",
   "execution_count": 45,
   "metadata": {
    "graffitiCellId": "id_4twme6x"
   },
   "outputs": [],
   "source": [
    "nodeG = GraphNode('G')\n",
    "nodeR = GraphNode('R')\n",
    "nodeA = GraphNode('A')\n",
    "nodeP = GraphNode('P')\n",
    "nodeH = GraphNode('H')\n",
    "nodeS = GraphNode('S')\n",
    "\n",
    "graph1 = Graph([nodeS,nodeH,nodeG,nodeP,nodeR,nodeA] ) \n",
    "graph1.add_edge(nodeG,nodeR)\n",
    "graph1.add_edge(nodeA,nodeR)\n",
    "graph1.add_edge(nodeA,nodeG)\n",
    "graph1.add_edge(nodeR,nodeP)\n",
    "graph1.add_edge(nodeH,nodeG)\n",
    "graph1.add_edge(nodeH,nodeP)\n",
    "graph1.add_edge(nodeS,nodeR)"
   ]
  },
  {
   "cell_type": "markdown",
   "metadata": {
    "graffitiCellId": "id_iplss81"
   },
   "source": [
    "## Implement BFS\n",
    "Using what you know about BFS for trees and DFS for graphs, let's do BFS for graphs. Implement the `bfs_search` to return the `GraphNode` with the value `search_value` starting at the `root_node`."
   ]
  },
  {
   "cell_type": "code",
   "execution_count": 46,
   "metadata": {
    "graffitiCellId": "id_1vk7aeh"
   },
   "outputs": [],
   "source": [
    "from collections import deque\n",
    "\n",
    "\"\"\"\n",
    "Following solution (and Udacity's solution) is INEFFICIENT, for example, in the graph below, it will add nodeA \n",
    "multiple times to the queue, one as a neighbor of G, and then, as a neighbor of R (uncomment BFS-Traversal print \n",
    "statements to see this). A more efficient implementationtracks the visited nodes (nodes added to the queue) and not \n",
    "explored nodes (nodes popped from the queue), making sure that an already visited node is not added again in the queue. This implementation can be found in the next cell.\n",
    "\"\"\"\n",
    "\n",
    "def bfs_search(root_node, search_value):\n",
    "    \"\"\" relatively inefficent solution, see next cell for more efficient implementation \"\"\"\n",
    "    queue = deque()\n",
    "    queue.appendleft(root_node)\n",
    "    \n",
    "    explored = set()\n",
    "#     print('--BFS-Traversal--')\n",
    "    while len(queue) > 0:\n",
    "        node = queue.pop() # assuming right is front, left is rear\n",
    "#         print(node.value)\n",
    "        if node.value == search_value:\n",
    "            return node\n",
    "        explored.add(node.value)\n",
    "        \n",
    "        for child in node.children:\n",
    "            if child.value not in explored:\n",
    "                queue.appendleft(child)"
   ]
  },
  {
   "cell_type": "code",
   "execution_count": 54,
   "metadata": {},
   "outputs": [],
   "source": [
    "def bfs_search(root_node, search_value):\n",
    "    \"\"\" better solution, each node visited exactly once \"\"\"\n",
    "    \n",
    "    queue = deque()\n",
    "    queue.appendleft(root_node)\n",
    "    \n",
    "    visited = set()\n",
    "    visited.add(root_node.value)\n",
    "    \n",
    "#     print('--BFS-Traversal--')\n",
    "    while len(queue) > 0:\n",
    "        node = queue.pop() # assuming right is front, left is rear\n",
    "#         print(node.value)\n",
    "        if node.value == search_value:\n",
    "            return node\n",
    "        \n",
    "        for child in node.children:\n",
    "            if child.value not in visited:\n",
    "                queue.appendleft(child)\n",
    "                visited.add(child.value)"
   ]
  },
  {
   "cell_type": "code",
   "execution_count": 51,
   "metadata": {},
   "outputs": [
    {
     "name": "stdout",
     "output_type": "stream",
     "text": [
      "H\n"
     ]
    }
   ],
   "source": [
    "nodeG = GraphNode('G')\n",
    "nodeR = GraphNode('R')\n",
    "nodeA = GraphNode('A')\n",
    "nodeP = GraphNode('P')\n",
    "nodeH = GraphNode('H')\n",
    "nodeS = GraphNode('S')\n",
    "\n",
    "graph1 = Graph([nodeS,nodeH,nodeG,nodeP,nodeR,nodeA] ) \n",
    "graph1.add_edge(nodeG,nodeR)\n",
    "graph1.add_edge(nodeA,nodeR)\n",
    "graph1.add_edge(nodeA,nodeG)\n",
    "graph1.add_edge(nodeR,nodeP)\n",
    "graph1.add_edge(nodeA,nodeP)\n",
    "graph1.add_edge(nodeH,nodeP)\n",
    "graph1.add_edge(nodeS,nodeP)\n",
    "\n",
    "print(bfs_search(nodeG, 'H'))"
   ]
  },
  {
   "cell_type": "markdown",
   "metadata": {
    "graffitiCellId": "id_fg1wpq1"
   },
   "source": [
    "<span class=\"graffiti-highlight graffiti-id_fg1wpq1-id_g7fi7m5\"><i></i><button>Hide Solution</button></span>"
   ]
  },
  {
   "cell_type": "code",
   "execution_count": 52,
   "metadata": {
    "graffitiCellId": "id_g7fi7m5"
   },
   "outputs": [],
   "source": [
    "def bfs_search(root_node, search_value):\n",
    "    \"\"\" inefficient solution, see comment at the topmost cell of this section \"\"\"\n",
    "    visited = []\n",
    "    queue = [root_node]\n",
    "    \n",
    "    while len(queue) > 0:\n",
    "        current_node = queue.pop(0)\n",
    "        visited.append(current_node)\n",
    "\n",
    "        if current_node.value == search_value:\n",
    "            return current_node\n",
    "\n",
    "        for child in current_node.children:\n",
    "            if child not in visited:\n",
    "                queue.append(child)"
   ]
  },
  {
   "cell_type": "markdown",
   "metadata": {
    "graffitiCellId": "id_ej37296"
   },
   "source": [
    "### Tests"
   ]
  },
  {
   "cell_type": "code",
   "execution_count": 53,
   "metadata": {
    "graffitiCellId": "id_ajsx9hw"
   },
   "outputs": [],
   "source": [
    "assert nodeA == bfs_search(nodeS, 'A')\n",
    "assert nodeS == bfs_search(nodeP, 'S')\n",
    "assert nodeR == bfs_search(nodeH, 'R')"
   ]
  },
  {
   "cell_type": "markdown",
   "metadata": {},
   "source": [
    "# Bipartition check "
   ]
  },
  {
   "cell_type": "markdown",
   "metadata": {},
   "source": [
    "Following is a learning exercise that I put in, and was not a part of original notebook. The problem is to check whether a given connected graph is bipartite or not. Solution based on understanding from: https://www.youtube.com/watch?v=r1-8p11fSPw&list=PLBF3763AF2E1C572F&index=26\n",
    "\n",
    "Basically, the idea is that check for bipartition can be done in two ways:\n",
    "1. Ensure that there is no odd cycle in graph, or equivalently \n",
    "2. While performing bfs, make sure that there is no edge within the same level (set of nodes at same distance from start node). But, in order to check that need to maintain level number of nodes (or shortest distance from root)."
   ]
  },
  {
   "cell_type": "code",
   "execution_count": 77,
   "metadata": {},
   "outputs": [],
   "source": [
    "def bipartite_check(root_node):\n",
    "    \"\"\" check whether a graph is bipartite, assuming graph is connected. In case it is not connected, we will\n",
    "    need to multiple BFS and make sure each connected component is bipartite, for the complete graph to be bipartite.\"\"\"\n",
    "    \n",
    "    queue = deque()\n",
    "    queue.appendleft(root_node)\n",
    "    \n",
    "    node_to_level = {}\n",
    "    node_to_level[root_node] = 0\n",
    "    \n",
    "    while len(queue) > 0:\n",
    "        node = queue.pop() # assuming right is front, left is rear\n",
    "        node_level = node_to_level[node]\n",
    "        \n",
    "        for child in node.children:\n",
    "            if child not in node_to_level:\n",
    "                queue.appendleft(child)\n",
    "                node_to_level[child] = node_level+1\n",
    "            elif node_to_level[child] == node_level: # a graph-edge found within the same bfs-level implying the graph is not bipartite (or there is an odd cycle in the graph)\n",
    "                return False\n",
    "    return True        "
   ]
  },
  {
   "cell_type": "code",
   "execution_count": 78,
   "metadata": {},
   "outputs": [
    {
     "name": "stdout",
     "output_type": "stream",
     "text": [
      "False\n"
     ]
    }
   ],
   "source": [
    "# example of non-bipartite graph, contains odd-cycle\n",
    "\n",
    "nodeG = GraphNode('G')\n",
    "nodeR = GraphNode('R')\n",
    "nodeA = GraphNode('A')\n",
    "nodeP = GraphNode('P')\n",
    "nodeH = GraphNode('H')\n",
    "nodeS = GraphNode('S')\n",
    "\n",
    "graph1 = Graph([nodeS,nodeH,nodeG,nodeP,nodeR,nodeA] ) \n",
    "graph1.add_edge(nodeG,nodeR)\n",
    "graph1.add_edge(nodeA,nodeR)\n",
    "graph1.add_edge(nodeA,nodeG)\n",
    "graph1.add_edge(nodeR,nodeP)\n",
    "graph1.add_edge(nodeA,nodeP)\n",
    "graph1.add_edge(nodeH,nodeP)\n",
    "graph1.add_edge(nodeS,nodeP)\n",
    "print(bipartite_check(nodeG))"
   ]
  },
  {
   "cell_type": "code",
   "execution_count": 79,
   "metadata": {},
   "outputs": [
    {
     "name": "stdout",
     "output_type": "stream",
     "text": [
      "True\n"
     ]
    }
   ],
   "source": [
    "# example of bipartite graph, does NOT contain an odd cycle\n",
    "\n",
    "nodeG = GraphNode('G')\n",
    "nodeR = GraphNode('R')\n",
    "nodeA = GraphNode('A')\n",
    "nodeP = GraphNode('P')\n",
    "nodeH = GraphNode('H')\n",
    "nodeS = GraphNode('S')\n",
    "\n",
    "graph1 = Graph([nodeS,nodeH,nodeG,nodeP,nodeR,nodeA] ) \n",
    "graph1.add_edge(nodeG,nodeR)\n",
    "graph1.add_edge(nodeA,nodeR)\n",
    "graph1.add_edge(nodeA,nodeP)\n",
    "graph1.add_edge(nodeP,nodeH)\n",
    "graph1.add_edge(nodeH,nodeS)\n",
    "print(bipartite_check(nodeG))"
   ]
  },
  {
   "cell_type": "code",
   "execution_count": null,
   "metadata": {},
   "outputs": [],
   "source": []
  }
 ],
 "metadata": {
  "graffiti": {
   "firstAuthorId": "dev",
   "id": "id_kq4h66c",
   "language": "EN"
  },
  "kernelspec": {
   "display_name": "Python 3",
   "language": "python",
   "name": "python3"
  },
  "language_info": {
   "codemirror_mode": {
    "name": "ipython",
    "version": 3
   },
   "file_extension": ".py",
   "mimetype": "text/x-python",
   "name": "python",
   "nbconvert_exporter": "python",
   "pygments_lexer": "ipython3",
   "version": "3.7.4"
  }
 },
 "nbformat": 4,
 "nbformat_minor": 2
}
