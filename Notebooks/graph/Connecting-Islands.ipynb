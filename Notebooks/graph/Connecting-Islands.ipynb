{
 "cells": [
  {
   "cell_type": "markdown",
   "metadata": {
    "graffitiCellId": "id_2ypsk8q"
   },
   "source": [
    "### Problem Statements\n",
    "\n",
    "In an ocean, there are `n` islands some of which are connected via bridges. Travelling over a bridge has some cost attaced with it. Find bridges in such a way that all islands are connected with minimum cost of travelling. \n",
    "\n",
    "You can assume that there is at least one possible way in which all islands are connected with each other. \n",
    "\n",
    "You will be provided with two input parameters:\n",
    "    \n",
    "1. `num_islands` = number of islands\n",
    "    \n",
    "2. `bridge_config` = list of lists. \n",
    "    Each inner list will have 3 elements:\n",
    "        a. island A\n",
    "        b. island B\n",
    "        c. cost of bridge connecting both islands\n",
    "                       \n",
    "    Each island is represented using a number\n",
    "     \n",
    "**Example:**                       \n",
    "* `num_islands = 4`\n",
    "* `bridge_config = [[1, 2, 1], [2, 3, 4], [1, 4, 3], [4, 3, 2], [1, 3, 10]]`\n",
    "       \n",
    "Input parameters explanation:\n",
    "    1. Number of islands = 4\n",
    "    2. Island 1 and 2 are connected via a bridge with cost = 1\n",
    "       Island 2 and 3 are connected via a bridge with cost = 4\n",
    "       Island 1 and 4 are connected via a bridge with cost = 3\n",
    "       Island 4 and 3 are connected via a bridge with cost = 2\n",
    "       Island 1 and 3 are connected via a bridge with cost = 10\n",
    "       \n",
    "In this example if we are connecting bridges like this...\n",
    "* between 1 and 2 with cost = 1\n",
    "* between 1 and 4 with cost = 3\n",
    "* between 4 and 3 with cost = 2  \n",
    "\n",
    "...then we connect all 4 islands with `cost = 6` which is the minimum traveling cost.\n"
   ]
  },
  {
   "cell_type": "markdown",
   "metadata": {
    "graffitiCellId": "id_83kmdhq"
   },
   "source": [
    "### Hint\n",
    "\n",
    "In addition to using a graph, you may want to use a custom priority queue for solving this problem.\n",
    "\n",
    "If you do not want to create a custom priority queue, you can use Python's `heapq` implementation.\n",
    "\n",
    "Using the `heapq` module, you can convert an existing list of items into a heap. The following two functionalities can be very handy for this problem:\n",
    "\n",
    "1. `heappush(heap, item)` — add `item` to the `heap`\n",
    "2. `heappop(heap)` — remove the smallest item from the `heap`\n",
    "\n",
    "Let's look at the above methods in action. We start by creating a list of integers."
   ]
  },
  {
   "cell_type": "markdown",
   "metadata": {
    "graffitiCellId": "id_bdreuuy"
   },
   "source": [
    "### `heappush`"
   ]
  },
  {
   "cell_type": "code",
   "execution_count": 2,
   "metadata": {
    "graffitiCellId": "id_9l6a6q2"
   },
   "outputs": [
    {
     "name": "stdout",
     "output_type": "stream",
     "text": [
      "After pushing, heap looks like: [1, 2, 6, 6, 9]\n"
     ]
    }
   ],
   "source": [
    "import heapq\n",
    "\n",
    "# initialize an empty list \n",
    "heap = list()\n",
    "\n",
    "# insert 5 into heap\n",
    "heapq.heappush(heap, 6)\n",
    "\n",
    "# insert 6 into heap\n",
    "heapq.heappush(heap, 6)\n",
    "\n",
    "# insert 2 into heap\n",
    "heapq.heappush(heap, 2)\n",
    "\n",
    "# insert 1 into heap\n",
    "heapq.heappush(heap, 1)\n",
    "\n",
    "# insert 9 into heap\n",
    "heapq.heappush(heap, 9)\n",
    "\n",
    "print(\"After pushing, heap looks like: {}\".format(heap))"
   ]
  },
  {
   "cell_type": "markdown",
   "metadata": {
    "graffitiCellId": "id_g622hmp"
   },
   "source": [
    "### `heappop`"
   ]
  },
  {
   "cell_type": "code",
   "execution_count": 3,
   "metadata": {
    "graffitiCellId": "id_wnum5bl"
   },
   "outputs": [
    {
     "name": "stdout",
     "output_type": "stream",
     "text": [
      "Smallest element in the original list was: 1\n",
      "After popping, heap looks like: [2, 6, 6, 9]\n"
     ]
    }
   ],
   "source": [
    "# pop and return smallest element from the heap\n",
    "smallest = heapq.heappop(heap)   \n",
    "\n",
    "print(\"Smallest element in the original list was: {}\".format(smallest))\n",
    "\n",
    "print(\"After popping, heap looks like: {}\".format(heap))"
   ]
  },
  {
   "cell_type": "markdown",
   "metadata": {
    "graffitiCellId": "id_kuyx4j2"
   },
   "source": [
    "### `heappush` and `heappop` for items with multiple entries\n",
    "\n",
    "Note: If you insert a tuple inside the heap, the element at 0th index of the tuple is used for comparision\n"
   ]
  },
  {
   "cell_type": "code",
   "execution_count": 4,
   "metadata": {
    "graffitiCellId": "id_namr80b"
   },
   "outputs": [
    {
     "name": "stdout",
     "output_type": "stream",
     "text": [
      "After pushing, now heap looks like: [(-1, 5), (0, 1), (2, 0), (5, -1)]\n"
     ]
    }
   ],
   "source": [
    "heap = list()\n",
    "\n",
    "heapq.heappush(heap, (0, 1))\n",
    "\n",
    "heapq.heappush(heap, (-1, 5))\n",
    "\n",
    "heapq.heappush(heap, (2, 0))\n",
    "\n",
    "heapq.heappush(heap, (5, -1))\n",
    "\n",
    "print(\"After pushing, now heap looks like: {}\".format(heap))"
   ]
  },
  {
   "cell_type": "code",
   "execution_count": 5,
   "metadata": {
    "graffitiCellId": "id_nm8mxqe"
   },
   "outputs": [
    {
     "name": "stdout",
     "output_type": "stream",
     "text": [
      "Smallest element in the original list was: (-1, 5)\n",
      "After popping, heap looks like: [(0, 1), (5, -1), (2, 0)]\n"
     ]
    }
   ],
   "source": [
    "# pop and return smallest element from the heap\n",
    "smallest = heapq.heappop(heap)   \n",
    "\n",
    "print(\"Smallest element in the original list was: {}\".format(smallest))\n",
    "\n",
    "print(\"After popping, heap looks like: {}\".format(heap))"
   ]
  },
  {
   "cell_type": "markdown",
   "metadata": {
    "graffitiCellId": "id_x0cx1fl"
   },
   "source": [
    "Now that you know about `heapq`, you can use it to solve the given problem. You are also free to create your own implementatin of Priority Queues.\n",
    "\n",
    "Write code in the following function to find and return the minimum cost required to travel all islands via bridges."
   ]
  },
  {
   "cell_type": "code",
   "execution_count": 25,
   "metadata": {
    "graffitiCellId": "id_igrfgn6"
   },
   "outputs": [],
   "source": [
    "def build_graph(num_islands, bridge_config):\n",
    "    adjacency_list = { island : list() for island in range(1, num_islands+1) }\n",
    "    \n",
    "    for bridge in bridge_config:\n",
    "        adjacency_list[bridge[0]].append((bridge[1], bridge[2]))\n",
    "        adjacency_list[bridge[1]].append((bridge[0], bridge[2]))\n",
    "    \n",
    "    return adjacency_list\n",
    "\n",
    "def get_minimum_cost_of_connecting(num_islands, bridge_config):\n",
    "    \"\"\"\n",
    "    :param: num_islands - number of islands\n",
    "    :param: bridge_config - bridge configuration as explained in the problem statement\n",
    "    return: cost (int) minimum cost of connecting all islands\n",
    "    TODO complete this method to returh minimum cost of connecting all islands\n",
    "    \"\"\"\n",
    "    \n",
    "    '''\n",
    "    NOTE: There are multiple ways of approximately solving this problem. Optimal solution is given \n",
    "    by considering n! permutations which is too compuationally expensive. So, there are approximate\n",
    "    algorithms that give good solutions to this problem. A detailed discussion on this could\n",
    "    be found here: https://nbviewer.jupyter.org/url/norvig.com/ipython/TSP.ipynb\n",
    "    \n",
    "    I have implemented one such simple approximate algorithm -- nearest-neighbour algorithm. The idea\n",
    "    is to start at any island, look at its neighbors, and connect the least cost bridge, and then, repeat\n",
    "    this till all vertices have been visited. Since at every step (r vertext), we select and add \n",
    "    the least cost bridge to pur path, it's a greedy approach. Same approach is also implemented \n",
    "    in Udacity's solution attached with this notebook.\n",
    "    '''\n",
    "    \n",
    "    # Steps:\n",
    "    \n",
    "    # 1. build graph, in the form of adjacency list\n",
    "    adjacency_list = build_graph(num_islands, bridge_config)\n",
    "    \n",
    "    # 2. start fron any vertex, push it to min-heap\n",
    "    start_vertex = 1\n",
    "    h = []\n",
    "    heapq.heappush(h, (0, start_vertex))\n",
    "    path_cost = 0\n",
    "    explored = set()\n",
    "    \n",
    "    # 3. pop from heap, while you can\n",
    "    while len(h) > 0:\n",
    "        cost, vertex = heapq.heappop(h)\n",
    "        if vertex in explored:\n",
    "            continue\n",
    "         \n",
    "        # 4. add explored node to set\n",
    "        explored.add(vertex)\n",
    "        path_cost += cost\n",
    "        \n",
    "        # 5. look at children of popped node, add the best edge\n",
    "        for connected_vertex, weight in adjacency_list[vertex]:\n",
    "            heapq.heappush(h, (weight, connected_vertex))\n",
    "            \n",
    "    return path_cost"
   ]
  },
  {
   "cell_type": "code",
   "execution_count": 26,
   "metadata": {
    "graffitiCellId": "id_r6apc2n"
   },
   "outputs": [
    {
     "name": "stdout",
     "output_type": "stream",
     "text": [
      "1 [(2, 1), (4, 3), (3, 10)]\n",
      "2 [(1, 1), (3, 4)]\n",
      "3 [(2, 4), (4, 2), (1, 10)]\n",
      "4 [(1, 3), (3, 2)]\n"
     ]
    }
   ],
   "source": [
    "# test graph building - works!\n",
    "\n",
    "num_islands = 4\n",
    "bridge_config = [[1, 2, 1], [2, 3, 4], [1, 4, 3], [4, 3, 2], [1, 3, 10]]\n",
    "g = build_graph(num_islands, bridge_config)\n",
    "\n",
    "for node, edge_list in g.items():\n",
    "    print(node, edge_list)"
   ]
  },
  {
   "cell_type": "markdown",
   "metadata": {
    "graffitiCellId": "id_07rfocu"
   },
   "source": [
    "<span class=\"graffiti-highlight graffiti-id_07rfocu-id_sgw589w\"><i></i><button>Show Solution</button></span>"
   ]
  },
  {
   "cell_type": "code",
   "execution_count": 27,
   "metadata": {
    "graffitiCellId": "id_pevivew"
   },
   "outputs": [],
   "source": [
    "def test_function(test_case):\n",
    "    num_islands = test_case[0]\n",
    "    bridge_config = test_case[1]\n",
    "    solution = test_case[2]\n",
    "    output = get_minimum_cost_of_connecting(num_islands, bridge_config)\n",
    "    \n",
    "    if output == solution:\n",
    "        print(\"Pass\")\n",
    "    else:\n",
    "        print(\"Fail\")"
   ]
  },
  {
   "cell_type": "code",
   "execution_count": 28,
   "metadata": {
    "graffitiCellId": "id_5j7jeic"
   },
   "outputs": [
    {
     "name": "stdout",
     "output_type": "stream",
     "text": [
      "Pass\n"
     ]
    }
   ],
   "source": [
    "num_islands = 4\n",
    "bridge_config = [[1, 2, 1], [2, 3, 4], [1, 4, 3], [4, 3, 2], [1, 3, 10]]\n",
    "solution = 6\n",
    "\n",
    "test_case = [num_islands, bridge_config, solution]\n",
    "test_function(test_case)"
   ]
  },
  {
   "cell_type": "code",
   "execution_count": 29,
   "metadata": {
    "graffitiCellId": "id_txlblpb"
   },
   "outputs": [
    {
     "name": "stdout",
     "output_type": "stream",
     "text": [
      "Pass\n"
     ]
    }
   ],
   "source": [
    "num_islands = 5\n",
    "bridge_config = [[1, 2, 5], [1, 3, 8], [2, 3, 9]]\n",
    "solution = 13\n",
    "\n",
    "test_case = [num_islands, bridge_config, solution]\n",
    "test_function(test_case)"
   ]
  },
  {
   "cell_type": "code",
   "execution_count": 30,
   "metadata": {
    "graffitiCellId": "id_x9pmr53"
   },
   "outputs": [
    {
     "name": "stdout",
     "output_type": "stream",
     "text": [
      "Pass\n"
     ]
    }
   ],
   "source": [
    "num_islands = 5\n",
    "bridge_config = [[1, 2, 3], [1, 5, 9], [2, 3, 10], [4, 3, 9]]\n",
    "solution = 31\n",
    "\n",
    "test_case = [num_islands, bridge_config, solution]\n",
    "test_function(test_case)"
   ]
  },
  {
   "cell_type": "code",
   "execution_count": null,
   "metadata": {
    "graffitiCellId": "id_e381fxh"
   },
   "outputs": [],
   "source": []
  }
 ],
 "metadata": {
  "graffiti": {
   "firstAuthorId": "dev",
   "id": "id_j75mgso",
   "language": "EN"
  },
  "kernelspec": {
   "display_name": "Python 3",
   "language": "python",
   "name": "python3"
  },
  "language_info": {
   "codemirror_mode": {
    "name": "ipython",
    "version": 3
   },
   "file_extension": ".py",
   "mimetype": "text/x-python",
   "name": "python",
   "nbconvert_exporter": "python",
   "pygments_lexer": "ipython3",
   "version": "3.6.3"
  }
 },
 "nbformat": 4,
 "nbformat_minor": 2
}
