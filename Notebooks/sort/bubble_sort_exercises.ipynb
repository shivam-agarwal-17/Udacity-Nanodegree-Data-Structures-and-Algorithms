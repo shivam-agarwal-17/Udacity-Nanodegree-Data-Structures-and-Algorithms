{
 "cells": [
  {
   "cell_type": "markdown",
   "metadata": {
    "graffitiCellId": "id_cje9nsj"
   },
   "source": [
    "# Bubble Sort Exercises\n",
    "Now that you know how about bubble sort works, you'll implement bubble sort for two exercises."
   ]
  },
  {
   "cell_type": "markdown",
   "metadata": {
    "graffitiCellId": "id_t9tqtch"
   },
   "source": [
    "## Exercise 1"
   ]
  },
  {
   "cell_type": "markdown",
   "metadata": {
    "graffitiCellId": "id_gqzp0au"
   },
   "source": [
    "Sam records when they wake up every morning. Assuming Sam always wakes up in the same hour, use bubble sort to sort by earliest to latest.\n",
    "\n"
   ]
  },
  {
   "cell_type": "code",
   "execution_count": 11,
   "metadata": {
    "graffitiCellId": "id_5lff1yj"
   },
   "outputs": [
    {
     "name": "stdout",
     "output_type": "stream",
     "text": [
      "Pass\n"
     ]
    }
   ],
   "source": [
    "wakeup_times = [16,49,3,12,56,49,55,22,13,46,19,55,46,13,25,56,9,48,45]\n",
    "def bubble_sort_1(l):\n",
    "    # TODO: Implement bubble sort solution\n",
    "    \n",
    "    for i in range(len(l)-1): # i :0->n-2, #outer loop counts how many times bubbling-up is done\n",
    "        swap = False\n",
    "        for j in range(len(l)-1-i): # j: 0->n-2-i # inner loop denotes one bubbling-up operation\n",
    "            if l[j+1] < l[j]:\n",
    "                temp = l[j+1]\n",
    "                l[j+1] = l[j]\n",
    "                l[j] = temp\n",
    "                swap = True\n",
    "        if not swap: # if no elements get swapped in a partciular bubbling-up operation, break,\n",
    "            # as already is sroted and there's no need to perform further bubbling-up operations \n",
    "            break\n",
    "            \n",
    "bubble_sort_1(wakeup_times)\n",
    "print (\"Pass\" if (wakeup_times[0] == 3) else \"Fail\")"
   ]
  },
  {
   "cell_type": "markdown",
   "metadata": {
    "graffitiCellId": "id_y26wn0b"
   },
   "source": [
    "<span class=\"graffiti-highlight graffiti-id_y26wn0b-id_uppmlq4\"><i></i><button>Show Solution</button></span>"
   ]
  },
  {
   "cell_type": "markdown",
   "metadata": {
    "graffitiCellId": "id_qeyh6km"
   },
   "source": [
    "## Exercise 2"
   ]
  },
  {
   "cell_type": "markdown",
   "metadata": {
    "graffitiCellId": "id_yapmadk"
   },
   "source": [
    "Sam doesn't always go to sleep in the same hour. Given the following times Sam has gone to sleep, sort the times from latest to earliest."
   ]
  },
  {
   "cell_type": "code",
   "execution_count": 8,
   "metadata": {
    "graffitiCellId": "id_dx34e9v"
   },
   "outputs": [
    {
     "name": "stdout",
     "output_type": "stream",
     "text": [
      "Pass\n"
     ]
    }
   ],
   "source": [
    "# Entries are (h, m) where h is the hour and m is the minute\n",
    "sleep_times = [(24,13), (21,55), (23,20), (22,5), (24,23), (21,58), (24,3)]\n",
    "\n",
    "def bubble_sort_2(l):\n",
    "    # TODO: Implement bubble sort solution\n",
    "    \n",
    "    # solution from pervious problem copied here, excep now we want to order in descending order\n",
    "    # no need to write a new comparator for tuples, as python already compares in lexicographic order\n",
    "    for i in range(len(l)-1): # i :0->n-2, #outer loop counts how many times bubbling-up is done\n",
    "        swap = False\n",
    "        for j in range(len(l)-1-i): # j: 0->n-2-i # inner loop denotes one bubbling-up operation\n",
    "            if l[j+1] > l[j]:\n",
    "                temp = l[j+1]\n",
    "                l[j+1] = l[j]\n",
    "                l[j] = temp\n",
    "                swap = True\n",
    "        if not swap: # if no elements get swapped in a partciular bubbling-up operation, break,\n",
    "            # as already is sroted and there's no need to perform further bubbling-up operations \n",
    "            break\n",
    "\n",
    "bubble_sort_2(sleep_times)\n",
    "print (\"Pass\" if (sleep_times == [(24,23), (24,13), (24,3), (23,20), (22,5), (21,58), (21,55)]) else \"Fail\")"
   ]
  },
  {
   "cell_type": "markdown",
   "metadata": {
    "graffitiCellId": "id_f6s1i29"
   },
   "source": [
    "<span class=\"graffiti-highlight graffiti-id_f6s1i29-id_hxr8nmt\"><i></i><button>Show Solution</button></span>"
   ]
  }
 ],
 "metadata": {
  "graffiti": {
   "firstAuthorId": "10694620118",
   "id": "id_0hd22kb",
   "language": "EN"
  },
  "kernelspec": {
   "display_name": "Python 3",
   "language": "python",
   "name": "python3"
  },
  "language_info": {
   "codemirror_mode": {
    "name": "ipython",
    "version": 3
   },
   "file_extension": ".py",
   "mimetype": "text/x-python",
   "name": "python",
   "nbconvert_exporter": "python",
   "pygments_lexer": "ipython3",
   "version": "3.6.3"
  }
 },
 "nbformat": 4,
 "nbformat_minor": 2
}
