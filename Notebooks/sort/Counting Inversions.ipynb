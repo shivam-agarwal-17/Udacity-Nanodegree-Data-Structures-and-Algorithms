{
 "cells": [
  {
   "cell_type": "markdown",
   "metadata": {
    "graffitiCellId": "id_ner1upo"
   },
   "source": [
    "# Counting Inversions\n",
    "\n",
    "The number of *inversions* in a disordered list is the number of pairs of elements that are inverted (out of order) in the list.  \n",
    "\n",
    "Here are some examples: \n",
    "  - [0,1] has 0 inversions\n",
    "  - [2,1] has 1 inversion (2,1)\n",
    "  - [3, 1, 2, 4] has 2 inversions (3, 2), (3, 1)\n",
    "  - [7, 5, 3, 1] has 6 inversions (7, 5), (3, 1), (5, 1), (7, 1), (5, 3), (7, 3)\n",
    "  \n",
    "The number of inversions can also be thought of in the following manner. \n",
    "\n",
    ">Given an array `arr[0 ... n-1]` of `n` distinct positive integers, for indices `i and j`, if `i < j` and `arr[i] > arr[j]` then the pair `(i, j)` is called an inversion of `arr`.\n",
    "\n",
    "## Problem statement\n",
    "\n",
    "Write a function, `count_inversions`, that takes an array (or Python list) as input, and returns a count of the total number of inversions present in the input.\n",
    "\n",
    "Mergesort provides an efficient way to solve this problem."
   ]
  },
  {
   "cell_type": "code",
   "execution_count": 1,
   "metadata": {
    "graffitiCellId": "id_jf6a5ys"
   },
   "outputs": [],
   "source": [
    "## NOTE: It was a great tip that mergesort gives a good way to count inversions, took the code form previous notebook, and used \n",
    "## it with slight modifications (see comments). UPDATE: the code for mergesort used here is the old space-in-efficient\n",
    "## one, see, mergesort notebook to find a more space efficient solution.\n",
    "\n",
    "def _mergesort_helper(items, start_index, end_index):\n",
    "    if start_index > end_index: # list of size 0 is already sorted\n",
    "        return 0, []\n",
    "    \n",
    "    if start_index == end_index: # list of size 1 is already sorted\n",
    "        return 0, [items[start_index]]\n",
    "    \n",
    "    mid = (start_index + end_index) // 2\n",
    "    num_inv_left, left = _mergesort_helper(items, start_index, mid)\n",
    "    num_inv_right, right = _mergesort_helper(items, mid+1, end_index)\n",
    "    \n",
    "    num_inv, merged = merge(left, right)\n",
    "    return (num_inv+num_inv_left+num_inv_right), merged\n",
    "\n",
    "def merge(left, right):\n",
    "    #TODO\n",
    "    \n",
    "    merged = [None] * (len(left) + len(right))\n",
    "    left_index, right_index = 0, 0\n",
    "    \n",
    "    index = 0\n",
    "    count_inversions = 0\n",
    "    while left_index < len(left) and right_index < len(right):\n",
    "        if left[left_index] <= right[right_index]:\n",
    "            merged[index] = left[left_index]\n",
    "            left_index += 1\n",
    "        else: # when an element (at right_index) from right is greater than an element from left (at left_index), then, the right \n",
    "            # element is actually also greater than all elements in left that come after the left_index, so count_inversions\n",
    "            # is incremented by len(left) - left_index\n",
    "            merged[index] = right[right_index] \n",
    "            right_index += 1\n",
    "            count_inversions += len(left) - left_index\n",
    "        index += 1\n",
    "    \n",
    "    # copying over remaining elements, only one of the following two while loops would\n",
    "    # be executed\n",
    "    while left_index < len(left):\n",
    "        merged[index] = left[left_index]\n",
    "        left_index += 1\n",
    "        index += 1\n",
    "        \n",
    "    while right_index < len(right):\n",
    "        merged[index] = right[right_index]\n",
    "        right_index += 1\n",
    "        index += 1\n",
    "        \n",
    "    return count_inversions, merged\n",
    "\n",
    "def count_inversions(arr):\n",
    "    # TODO: Complete this function\n",
    "    num_inversions, _ = _mergesort_helper(arr, 0, len(arr)-1)\n",
    "    return num_inversions"
   ]
  },
  {
   "cell_type": "markdown",
   "metadata": {
    "graffitiCellId": "id_8809fp2"
   },
   "source": [
    "<span class=\"graffiti-highlight graffiti-id_8809fp2-id_8br31oi\"><i></i><button>Show Solution</button></span>"
   ]
  },
  {
   "cell_type": "code",
   "execution_count": 21,
   "metadata": {
    "graffitiCellId": "id_l6xh0rg"
   },
   "outputs": [],
   "source": [
    "def test_function(test_case):\n",
    "    arr = test_case[0]\n",
    "    solution = test_case[1]\n",
    "    if count_inversions(arr) == solution:\n",
    "        print(\"Pass\")\n",
    "    else:\n",
    "        print(\"Fail\")\n"
   ]
  },
  {
   "cell_type": "code",
   "execution_count": 22,
   "metadata": {
    "graffitiCellId": "id_4aqr272"
   },
   "outputs": [
    {
     "name": "stdout",
     "output_type": "stream",
     "text": [
      "Pass\n"
     ]
    }
   ],
   "source": [
    "arr = [2, 5, 1, 3, 4]\n",
    "solution = 4\n",
    "test_case = [arr, solution]\n",
    "test_function(test_case)"
   ]
  },
  {
   "cell_type": "code",
   "execution_count": 23,
   "metadata": {
    "graffitiCellId": "id_0sqy9z2"
   },
   "outputs": [
    {
     "name": "stdout",
     "output_type": "stream",
     "text": [
      "Pass\n"
     ]
    }
   ],
   "source": [
    "arr = [54, 99, 49, 22, 37, 18, 22, 90, 86, 33]\n",
    "solution = 26\n",
    "test_case = [arr, solution]\n",
    "test_function(test_case)"
   ]
  },
  {
   "cell_type": "code",
   "execution_count": 24,
   "metadata": {
    "graffitiCellId": "id_s5l67ma"
   },
   "outputs": [
    {
     "name": "stdout",
     "output_type": "stream",
     "text": [
      "Pass\n"
     ]
    }
   ],
   "source": [
    "arr = [1, 2, 4, 2, 3, 11, 22, 99, 108, 389]\n",
    "solution = 2\n",
    "test_case = [arr, solution]\n",
    "test_function(test_case)"
   ]
  },
  {
   "cell_type": "code",
   "execution_count": null,
   "metadata": {
    "graffitiCellId": "id_knqrcdi"
   },
   "outputs": [],
   "source": []
  }
 ],
 "metadata": {
  "graffiti": {
   "firstAuthorId": "dev",
   "id": "id_2rhwg9e",
   "language": "EN"
  },
  "kernelspec": {
   "display_name": "Python 3",
   "language": "python",
   "name": "python3"
  },
  "language_info": {
   "codemirror_mode": {
    "name": "ipython",
    "version": 3
   },
   "file_extension": ".py",
   "mimetype": "text/x-python",
   "name": "python",
   "nbconvert_exporter": "python",
   "pygments_lexer": "ipython3",
   "version": "3.7.4"
  }
 },
 "nbformat": 4,
 "nbformat_minor": 2
}
