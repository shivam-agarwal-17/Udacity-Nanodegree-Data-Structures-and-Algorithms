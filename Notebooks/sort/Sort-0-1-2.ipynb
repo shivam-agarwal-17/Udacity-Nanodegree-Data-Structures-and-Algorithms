{
 "cells": [
  {
   "cell_type": "markdown",
   "metadata": {
    "graffitiCellId": "id_pdy0t0f"
   },
   "source": [
    "### Problem Statement\n",
    "\n",
    "Write a function that takes an input array (or Python list) consisting of only `0`s, `1`s, and `2`s, and sorts that array in a single traversal.\n",
    "\n",
    "Note that if you can get the function to put the `0`s and `2`s in the correct positions, this will aotumatically cause the `1`s to be in the correct positions as well."
   ]
  },
  {
   "cell_type": "code",
   "execution_count": 10,
   "metadata": {
    "graffitiCellId": "id_vsgisrd"
   },
   "outputs": [],
   "source": [
    "def sort_012(input_list):\n",
    "    '''\n",
    "    NOTE: Couldn't figure this out, referred to https://www.geeksforgeeks.org/sort-an-array-of-0s-1s-and-2s/, their solution \n",
    "    is same as the one attached with this notebook, though. Here's a video to help understand the solution: https://www.youtube.com/watch?v=BOt1DAvR0zI\n",
    "    '''\n",
    "    \n",
    "    left_index = 0\n",
    "    right_index = len(input_list) - 1\n",
    "    mid_index = 0\n",
    "    \n",
    "    while mid_index <= right_index:\n",
    "        if input_list[mid_index] == 0:\n",
    "            input_list[left_index], input_list[mid_index] = input_list[mid_index], input_list[left_index]\n",
    "            left_index += 1\n",
    "            mid_index += 1\n",
    "        elif input_list[mid_index] == 2:\n",
    "            input_list[right_index], input_list[mid_index] = input_list[mid_index], input_list[right_index]\n",
    "            right_index -= 1\n",
    "        else:\n",
    "            mid_index += 1"
   ]
  },
  {
   "cell_type": "markdown",
   "metadata": {
    "graffitiCellId": "id_iblv1ps"
   },
   "source": [
    "Notes: \n",
    "\n",
    "- This approach could be used to segregate any three numbers in any order in the array in a single traversal. For example, same appraoch could have been used if we were to segregate the array such that 1s end up in the beginning, 0s end up in the end and 2s in the middle. Such problems are a variation of the Dutch National Flag Problem (http://users.monash.edu/~lloyd/tildeAlgDS/Sort/Flag/). \n",
    "\n",
    "- I realize that this approach could also be used in partition function of quicksort, in order to segregae the elementes in three buckets (instead of usual 2): A[i] < pivot, A[i] == pivot, and A[i] > pivot. This type of three way segregation is particularly useful, if we expect a lot of duplicate values in our array to be sorted. "
   ]
  },
  {
   "cell_type": "markdown",
   "metadata": {
    "graffitiCellId": "id_rrxcwca"
   },
   "source": [
    "<span class=\"graffiti-highlight graffiti-id_rrxcwca-id_1f2p5yd\"><i></i><button>Show Solution</button></span>"
   ]
  },
  {
   "cell_type": "code",
   "execution_count": 11,
   "metadata": {
    "graffitiCellId": "id_2sqv48t"
   },
   "outputs": [],
   "source": [
    "def test_function(test_case):\n",
    "    sort_012(test_case)\n",
    "    print(test_case)\n",
    "    if test_case == sorted(test_case):\n",
    "        print(\"Pass\")\n",
    "    else:\n",
    "        print(\"Fail\")\n"
   ]
  },
  {
   "cell_type": "code",
   "execution_count": 12,
   "metadata": {
    "graffitiCellId": "id_x3ai5yy"
   },
   "outputs": [
    {
     "name": "stdout",
     "output_type": "stream",
     "text": [
      "[0, 0, 0, 1, 1, 1, 2, 2, 2, 2, 2]\n",
      "Pass\n"
     ]
    }
   ],
   "source": [
    "test_case = [0, 0, 2, 2, 2, 1, 1, 1, 2, 0, 2]\n",
    "test_function(test_case)"
   ]
  },
  {
   "cell_type": "code",
   "execution_count": 13,
   "metadata": {
    "graffitiCellId": "id_t8sucox"
   },
   "outputs": [
    {
     "name": "stdout",
     "output_type": "stream",
     "text": [
      "[0, 0, 0, 0, 0, 0, 0, 0, 0, 0, 0, 1, 1, 1, 1, 1, 1, 2, 2, 2, 2, 2, 2, 2, 2, 2]\n",
      "Pass\n"
     ]
    }
   ],
   "source": [
    "test_case = [2, 1, 2, 0, 0, 2, 1, 0, 1, 0, 0, 2, 2, 2, 1, 2, 0, 0, 0, 2, 1, 0, 2, 0, 0, 1]\n",
    "test_function(test_case)"
   ]
  },
  {
   "cell_type": "code",
   "execution_count": 14,
   "metadata": {
    "graffitiCellId": "id_mk5p9ba"
   },
   "outputs": [
    {
     "name": "stdout",
     "output_type": "stream",
     "text": [
      "[0, 0, 0, 0, 0, 0, 1, 1, 1, 1, 1, 1, 2, 2, 2, 2, 2, 2, 2]\n",
      "Pass\n"
     ]
    }
   ],
   "source": [
    "test_case = [2, 2, 0, 0, 2, 1, 0, 2, 2, 1, 1, 1, 0, 1, 2, 0, 2, 0, 1]\n",
    "test_function(test_case)"
   ]
  },
  {
   "cell_type": "code",
   "execution_count": null,
   "metadata": {
    "graffitiCellId": "id_aoczvn3"
   },
   "outputs": [],
   "source": []
  }
 ],
 "metadata": {
  "graffiti": {
   "firstAuthorId": "dev",
   "id": "id_ni46pwa",
   "language": "EN"
  },
  "kernelspec": {
   "display_name": "Python 3",
   "language": "python",
   "name": "python3"
  },
  "language_info": {
   "codemirror_mode": {
    "name": "ipython",
    "version": 3
   },
   "file_extension": ".py",
   "mimetype": "text/x-python",
   "name": "python",
   "nbconvert_exporter": "python",
   "pygments_lexer": "ipython3",
   "version": "3.6.3"
  }
 },
 "nbformat": 4,
 "nbformat_minor": 2
}
