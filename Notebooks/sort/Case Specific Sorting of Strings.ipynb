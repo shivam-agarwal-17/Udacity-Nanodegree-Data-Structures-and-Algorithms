{
 "cells": [
  {
   "cell_type": "markdown",
   "metadata": {
    "graffitiCellId": "id_7nj9dyd"
   },
   "source": [
    "# Case Specific Sorting of Strings\n",
    "\n",
    "## Problem statement\n",
    "Given a string consisting of uppercase and lowercase ASCII characters, write a function, `case_sort`, that sorts uppercase and lowercase letters separately, such that if the $i$th place in the original string had an uppercase character then it should not have a lowercase character after being sorted and vice versa.\n",
    "\n",
    "For example:  \n",
    "**Input:** fedRTSersUXJ  \n",
    "**Output:** deeJRSfrsTUX"
   ]
  },
  {
   "cell_type": "code",
   "execution_count": 29,
   "metadata": {
    "graffitiCellId": "id_jmqckie"
   },
   "outputs": [],
   "source": [
    "##NOTE: merge sort code taken from merge sort notebook, and re-purposed to work for string type input\n",
    "\n",
    "def _mergesort_helper(string, start_index, end_index):\n",
    "    if start_index > end_index: # list of size 0 is already sorted\n",
    "        return \"\"\n",
    "    \n",
    "    if start_index == end_index: # list of size 1 is already sorted\n",
    "        return string[start_index]\n",
    "    \n",
    "    mid = (start_index + end_index) // 2\n",
    "    left = _mergesort_helper(string, start_index, mid)\n",
    "    right = _mergesort_helper(string, mid+1, end_index)\n",
    "    \n",
    "    return merge(left, right)\n",
    "    \n",
    "def mergesort(string):\n",
    "    #TODO\n",
    "    return _mergesort_helper(string, 0, len(string)-1)\n",
    "\n",
    "def merge(left, right):\n",
    "    #TODO\n",
    "    \n",
    "    merged_string = \"\"\n",
    "    left_index, right_index = 0, 0\n",
    "        \n",
    "    index = 0\n",
    "    while left_index < len(left) and right_index < len(right):\n",
    "        if left[left_index] <= right[right_index]:\n",
    "            merged_string += left[left_index]\n",
    "            left_index += 1\n",
    "        else:\n",
    "            merged_string += right[right_index] \n",
    "            right_index += 1\n",
    "    \n",
    "    # copying over remaining elements, only one of the following statements would\n",
    "    # be executed\n",
    "    merged_string += left[left_index:]\n",
    "    merged_string += right[right_index:]\n",
    "        \n",
    "    return merged_string\n",
    "        \n",
    "\n",
    "def case_sort(string):\n",
    "    \"\"\"\n",
    "    Here are some pointers on how the function should work:\n",
    "    1. Sort the string\n",
    "    2. Create an empty output list\n",
    "    3. Iterate over original string\n",
    "        if the character is lower-case:\n",
    "            pick lower-case character from sorted string to place in output list\n",
    "        else:\n",
    "            pick upper-case character from sorted string to place in output list\n",
    "    \n",
    "    Note: You can use Python's inbuilt ord() function to find the ASCII value of a character\n",
    "    \"\"\"\n",
    "    sorted_string = mergesort(string)\n",
    "    \n",
    "    lower_index = None\n",
    "    for idx, ch in enumerate(sorted_string):\n",
    "        if 97 <= ord(ch) <= 122:\n",
    "            lower_index = idx\n",
    "            break\n",
    "            \n",
    "    if lower_index is None: # original string consists of only upper case letters, return sorted string as it is\n",
    "        return sorted_string\n",
    "    \n",
    "    rearranged_string = \"\"\n",
    "    upper_index = 0\n",
    "    \n",
    "    for ch in string:\n",
    "        if 97 <= ord(ch) <= 122:\n",
    "            rearranged_string += sorted_string[lower_index]\n",
    "            lower_index += 1\n",
    "        else:\n",
    "            rearranged_string += sorted_string[upper_index]\n",
    "            upper_index += 1\n",
    "        \n",
    "    return rearranged_string"
   ]
  },
  {
   "cell_type": "markdown",
   "metadata": {
    "graffitiCellId": "id_mw53bf1"
   },
   "source": [
    "<span class=\"graffiti-highlight graffiti-id_mw53bf1-id_fsblbn3\"><i></i><button>Show Solution</button></span>"
   ]
  },
  {
   "cell_type": "code",
   "execution_count": 30,
   "metadata": {
    "graffitiCellId": "id_z40d3cc"
   },
   "outputs": [],
   "source": [
    "def test_function(test_case):\n",
    "    test_string = test_case[0]\n",
    "    solution = test_case[1]\n",
    "    \n",
    "    if case_sort(test_string) == solution:\n",
    "        print(\"Pass\")\n",
    "    else:\n",
    "        print(\"False\")"
   ]
  },
  {
   "cell_type": "code",
   "execution_count": 31,
   "metadata": {
    "graffitiCellId": "id_gxkbvwz"
   },
   "outputs": [
    {
     "name": "stdout",
     "output_type": "stream",
     "text": [
      "Pass\n"
     ]
    }
   ],
   "source": [
    "test_string = 'fedRTSersUXJ'\n",
    "solution = \"deeJRSfrsTUX\"\n",
    "test_case = [test_string, solution]\n",
    "test_function(test_case)"
   ]
  },
  {
   "cell_type": "code",
   "execution_count": 32,
   "metadata": {
    "graffitiCellId": "id_uduu26h"
   },
   "outputs": [
    {
     "name": "stdout",
     "output_type": "stream",
     "text": [
      "Pass\n"
     ]
    }
   ],
   "source": [
    "test_string = \"defRTSersUXI\"\n",
    "solution = \"deeIRSfrsTUX\"\n",
    "test_case = [test_string, solution]\n",
    "test_function(test_case)"
   ]
  },
  {
   "cell_type": "code",
   "execution_count": null,
   "metadata": {
    "graffitiCellId": "id_03g0u1g"
   },
   "outputs": [],
   "source": []
  }
 ],
 "metadata": {
  "graffiti": {
   "firstAuthorId": "dev",
   "id": "id_9ub8eru",
   "language": "EN"
  },
  "kernelspec": {
   "display_name": "Python 3",
   "language": "python",
   "name": "python3"
  },
  "language_info": {
   "codemirror_mode": {
    "name": "ipython",
    "version": 3
   },
   "file_extension": ".py",
   "mimetype": "text/x-python",
   "name": "python",
   "nbconvert_exporter": "python",
   "pygments_lexer": "ipython3",
   "version": "3.6.3"
  }
 },
 "nbformat": 4,
 "nbformat_minor": 2
}
