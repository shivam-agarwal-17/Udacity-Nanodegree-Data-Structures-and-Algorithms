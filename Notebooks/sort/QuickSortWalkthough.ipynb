{
 "cells": [
  {
   "cell_type": "markdown",
   "metadata": {},
   "source": [
    "# QuickSort\n",
    "\n",
    "Like MergeSort, QuickSort is a divide-and-conquer algorithm. We need to pick a pivot, then sort both sublists that are created on either side of the pivot. Similar to the video, we'll follow the convention of picking the last element as the pivot.\n",
    "\n",
    "Start with our unordered list of items:"
   ]
  },
  {
   "cell_type": "code",
   "execution_count": 1,
   "metadata": {},
   "outputs": [],
   "source": [
    "items = [8, 3, 1, 7, 0, 10, 2]"
   ]
  },
  {
   "cell_type": "markdown",
   "metadata": {},
   "source": [
    "Let's sketch out what a first iteration would look like.\n",
    "\n",
    "We can use `len` to grab the pivot value, but in order to sort in-place we'll also want the index of the pivot."
   ]
  },
  {
   "cell_type": "code",
   "execution_count": 2,
   "metadata": {},
   "outputs": [],
   "source": [
    "pivot_index = len(items) - 1\n",
    "pivot_value = items[pivot_index]"
   ]
  },
  {
   "cell_type": "markdown",
   "metadata": {},
   "source": [
    "Because we plan on sorting in-place, we want to iterate through the items to the left of our pivot (`left_items`). When they're larger than `pivot_value` though, we will not increment our position through `left_items`, but instead change `pivot_index`. We'll know we're done with this pass when `pivot_index` and `left_items` index are equal."
   ]
  },
  {
   "cell_type": "code",
   "execution_count": 3,
   "metadata": {},
   "outputs": [
    {
     "name": "stdout",
     "output_type": "stream",
     "text": [
      "[0, 1, 2, 7, 3, 10, 8]\n"
     ]
    }
   ],
   "source": [
    "left_index = 0\n",
    "\n",
    "while (pivot_index != left_index):\n",
    "    \n",
    "    item = items[left_index]\n",
    "    \n",
    "    if item <= pivot_value:\n",
    "        left_index += 1\n",
    "        continue\n",
    "    \n",
    "    # Place the item before the pivot at left_index\n",
    "    items[left_index] = items[pivot_index - 1]\n",
    "    # Shift pivot one to the left\n",
    "    items[pivot_index - 1] = pivot_value\n",
    "    # Place item at pivot's previous location\n",
    "    items[pivot_index] = item\n",
    "    # Update pivot_index\n",
    "    pivot_index -= 1\n",
    "\n",
    "print(items)\n",
    "        "
   ]
  },
  {
   "cell_type": "markdown",
   "metadata": {},
   "source": [
    "You should see:\n",
    "\n",
    "```\n",
    "[0, 1, 2, 7, 3, 10, 8]\n",
    "```\n",
    "\n",
    "\n",
    "When our loop terminated, we knew everything to the left of our pivot was less than pivot, and everything to the right of our pivot was greater than pivot. Great! Now we need to do that again for the sublists that are left and right of pivot's final location.\n",
    "\n",
    "We can do that by abstracting our above code to a function, just passing the list of items as a parameter."
   ]
  },
  {
   "cell_type": "code",
   "execution_count": 4,
   "metadata": {},
   "outputs": [
    {
     "name": "stdout",
     "output_type": "stream",
     "text": [
      "[0, 1, 2, 7, 3, 10, 8]\n"
     ]
    }
   ],
   "source": [
    "def sort_a_little_bit(items):\n",
    "    left_index = 0\n",
    "    pivot_index = len(items) - 1\n",
    "    pivot_value = items[pivot_index]\n",
    "\n",
    "    while (pivot_index != left_index):\n",
    "\n",
    "        item = items[left_index]\n",
    "\n",
    "        if item <= pivot_value:\n",
    "            left_index += 1\n",
    "            continue\n",
    "\n",
    "        items[left_index] = items[pivot_index - 1]\n",
    "        items[pivot_index - 1] = pivot_value\n",
    "        items[pivot_index] = item\n",
    "        pivot_index -= 1\n",
    "        \n",
    "items = [8, 3, 1, 7, 0, 10, 2]\n",
    "sort_a_little_bit(items)\n",
    "print(items)"
   ]
  },
  {
   "cell_type": "markdown",
   "metadata": {},
   "source": [
    "Now what would it require to recurse on this? We want to take the result of that iteration and act on it. So first off, we see that in order to call the function again, we need to communicate the final `pivot_index` value. And then with that, we can mark off segments of the list and have our function operate on less than the entire list. So let's change our function to accept the indices it should stay within, and return the pivot_index."
   ]
  },
  {
   "cell_type": "code",
   "execution_count": 5,
   "metadata": {},
   "outputs": [
    {
     "name": "stdout",
     "output_type": "stream",
     "text": [
      "[0, 1, 2, 7, 3, 10, 8]\n",
      "pivot index 2\n"
     ]
    }
   ],
   "source": [
    "def sort_a_little_bit(items, begin_index, end_index):    \n",
    "    left_index = begin_index\n",
    "    pivot_index = end_index\n",
    "    pivot_value = items[pivot_index]\n",
    "\n",
    "    while (pivot_index != left_index):\n",
    "\n",
    "        item = items[left_index]\n",
    "\n",
    "        if item <= pivot_value:\n",
    "            left_index += 1\n",
    "            continue\n",
    "\n",
    "        items[left_index] = items[pivot_index - 1]\n",
    "        items[pivot_index - 1] = pivot_value\n",
    "        items[pivot_index] = item\n",
    "        pivot_index -= 1\n",
    "    \n",
    "    return pivot_index\n",
    "\n",
    "items = [8, 3, 1, 7, 0, 10, 2]\n",
    "pivot_index = sort_a_little_bit(items, 0, len(items) - 1)\n",
    "print(items)\n",
    "print('pivot index %d' % pivot_index)"
   ]
  },
  {
   "cell_type": "markdown",
   "metadata": {},
   "source": [
    "Almost there! Let's create another function, the recursive function we want, that uses this. And then we'll have our top level definition of `quicksort` call it with our initial parameters. But we need a way to know if we're done! We'll use the indices to see if they demark a list of more than one item. If the demarked sublist is 0 or 1 item, we know it's already sorted."
   ]
  },
  {
   "cell_type": "code",
   "execution_count": 6,
   "metadata": {},
   "outputs": [
    {
     "name": "stdout",
     "output_type": "stream",
     "text": [
      "[0, 1, 2, 3, 7, 8, 10]\n"
     ]
    }
   ],
   "source": [
    "def sort_all(items, begin_index, end_index):\n",
    "    if end_index <= begin_index:\n",
    "        return\n",
    "    \n",
    "    pivot_index = sort_a_little_bit(items, begin_index, end_index)\n",
    "    sort_all(items, begin_index, pivot_index - 1)\n",
    "    sort_all(items, pivot_index + 1, end_index)\n",
    "    \n",
    "def quicksort(items):\n",
    "    sort_all(items, 0, len(items) - 1)\n",
    "    \n",
    "items = [8, 3, 1, 7, 0, 10, 2]\n",
    "quicksort(items)\n",
    "print(items)\n"
   ]
  },
  {
   "cell_type": "markdown",
   "metadata": {},
   "source": [
    "It's a good idea to test a few more scenarios. Does it work with an even number of items? What if they're already sorted?"
   ]
  },
  {
   "cell_type": "code",
   "execution_count": 7,
   "metadata": {},
   "outputs": [
    {
     "name": "stdout",
     "output_type": "stream",
     "text": [
      "[0, 1]\n",
      "[96, 97, 98]\n"
     ]
    }
   ],
   "source": [
    "items = [1, 0]\n",
    "quicksort(items)\n",
    "print(items)\n",
    "\n",
    "items = [96, 97, 98]\n",
    "quicksort(items)\n",
    "print(items)"
   ]
  },
  {
   "cell_type": "markdown",
   "metadata": {},
   "source": [
    "### Mission Accomplished!"
   ]
  },
  {
   "cell_type": "markdown",
   "metadata": {},
   "source": [
    "## Practice"
   ]
  },
  {
   "cell_type": "code",
   "execution_count": 19,
   "metadata": {},
   "outputs": [],
   "source": [
    "def partition(items, begin_index, end_index):\n",
    "    '''\n",
    "    Partitions the array and returns the pivot index\n",
    "    '''\n",
    "    \n",
    "    left_index = begin_index\n",
    "    right_index = end_index-1\n",
    "    pivot = items[end_index]\n",
    "    \n",
    "    while left_index <= right_index:\n",
    "        if items[left_index] <= pivot:\n",
    "            left_index += 1\n",
    "        else: # swap elements at left_index and right_index, decrement right_index (the next available index to store an element > pivot)     \n",
    "            items[left_index], items[right_index] = items[right_index], items[left_index]\n",
    "            right_index -= 1\n",
    "        \n",
    "    items[left_index], items[end_index] = pivot, items[left_index]\n",
    "    return left_index # this is the pivot index\n",
    "    \n",
    "    \"\"\"\n",
    "    NOTE: Following was my first implementation based on the walkthrough above. However, I realized that the pivot is \n",
    "    being shifted more number of times than necessary. So, I've written another implementation (above) that is along \n",
    "    the same lines as following one, but only moves the pivot at the end, to its correct position, making it slightly \n",
    "    more efficient, albeit of the same order of time complexity -- O(n). Wikipedia has two partition methods documented,\n",
    "    mine is similar to Lomuto. The other parition scheme, Hoare's is said to be slightly more efficient, with three times\n",
    "    lesser swaps on average, but it doesn't guarantee that the returned index represents pivot index - which may not be\n",
    "    important to have for quicksort, ubt could be useful in some other use cases.\n",
    "    \n",
    "    left_index = begin_index\n",
    "    pivot_index = end_index # choosing the last element as pivot\n",
    "    \n",
    "    while pivot_index != left_index:\n",
    "        item = items[left_index]\n",
    "        if item <= items[pivot_index]:\n",
    "            left_index += 1\n",
    "            continue\n",
    "            \n",
    "        items[left_index] = items[pivot_index - 1] # moving element to the left of pivot to position of large element (at left_index)\n",
    "        items[pivot_index - 1] = items[pivot_index] # moving pivot to left by 1 position\n",
    "        items[pivot_index] = item # storing the large element at pivots old position\n",
    "        pivot_index -= 1 # updating pivot's new position\n",
    "        \n",
    "    return pivot_index\n",
    "    \"\"\""
   ]
  },
  {
   "cell_type": "code",
   "execution_count": 13,
   "metadata": {},
   "outputs": [
    {
     "name": "stdout",
     "output_type": "stream",
     "text": [
      "[0, 1, 2, 3, 10, 8, 7]\n",
      "pivot index 2\n"
     ]
    }
   ],
   "source": [
    "items = [8, 3, 1, 7, 0, 10, 2]\n",
    "pivot_index = partition(items, 0, len(items) - 1)\n",
    "print(items)\n",
    "print('pivot index %d' % pivot_index)\n",
    "# [0, 1, 2, 7, 3, 10, 8]\n",
    "# 2"
   ]
  },
  {
   "cell_type": "code",
   "execution_count": 14,
   "metadata": {},
   "outputs": [],
   "source": [
    "def _quicksort_helper(items, begin_index, end_index):\n",
    "    if end_index <= begin_index: # items of length 0 or 1 are already sorted\n",
    "        return \n",
    "    \n",
    "    pivot_index = partition(items, begin_index, end_index)\n",
    "    _quicksort_helper(items, begin_index, pivot_index-1)\n",
    "    _quicksort_helper(items, pivot_index+1, end_index)\n",
    "        \n",
    "def quicksort(items):\n",
    "    _quicksort_helper(items, 0, len(items)-1)"
   ]
  },
  {
   "cell_type": "code",
   "execution_count": 15,
   "metadata": {},
   "outputs": [
    {
     "name": "stdout",
     "output_type": "stream",
     "text": [
      "[0, 1, 2, 3, 10, 8, 7]\n",
      "2\n"
     ]
    }
   ],
   "source": [
    "# test partition - works!\n",
    "x = [8, 3, 1, 7, 0, 10, 2]\n",
    "p_idx = partition(x, 0, len(x)-1)\n",
    "\n",
    "print(x)\n",
    "print(p_idx)"
   ]
  },
  {
   "cell_type": "code",
   "execution_count": 16,
   "metadata": {},
   "outputs": [
    {
     "name": "stdout",
     "output_type": "stream",
     "text": [
      "[0, 1, 2, 3, 7, 8, 10]\n"
     ]
    }
   ],
   "source": [
    "# testing _quicksort_helper - works!\n",
    "x = [8, 3, 1, 7, 0, 10, 2]\n",
    "_quicksort_helper(x, 0, len(x)-1)\n",
    "print(x)"
   ]
  },
  {
   "cell_type": "code",
   "execution_count": 17,
   "metadata": {},
   "outputs": [
    {
     "name": "stdout",
     "output_type": "stream",
     "text": [
      "[0, 1, 2, 3, 7, 8, 10]\n"
     ]
    }
   ],
   "source": [
    "# testing quicksort\n",
    "x = [8, 3, 1, 7, 0, 10, 2]\n",
    "quicksort(x)\n",
    "print(x)"
   ]
  },
  {
   "cell_type": "code",
   "execution_count": null,
   "metadata": {},
   "outputs": [],
   "source": []
  }
 ],
 "metadata": {
  "kernelspec": {
   "display_name": "Python 3",
   "language": "python",
   "name": "python3"
  },
  "language_info": {
   "codemirror_mode": {
    "name": "ipython",
    "version": 3
   },
   "file_extension": ".py",
   "mimetype": "text/x-python",
   "name": "python",
   "nbconvert_exporter": "python",
   "pygments_lexer": "ipython3",
   "version": "3.7.4"
  }
 },
 "nbformat": 4,
 "nbformat_minor": 2
}
