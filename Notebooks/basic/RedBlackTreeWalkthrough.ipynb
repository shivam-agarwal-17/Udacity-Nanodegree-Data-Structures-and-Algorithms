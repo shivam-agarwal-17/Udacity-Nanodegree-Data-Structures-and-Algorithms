{
 "cells": [
  {
   "cell_type": "markdown",
   "metadata": {},
   "source": [
    "# Building a Red-Black Tree"
   ]
  },
  {
   "cell_type": "markdown",
   "metadata": {},
   "source": [
    "In this notebook, we'll walk through how you might build a red-black tree. Remember, we need to follow the red-black tree rules, on top of the binary search tree rules. Our new rules are:\n",
    "\n",
    "* All nodes have a color\n",
    "* All nodes have two children (use NULL nodes)\n",
    "  * All NULL nodes are colored black\n",
    "* If a node is red, its children must be black\n",
    "* The root node must be black (optional)\n",
    "  * We'll go ahead and implement without this for now\n",
    "* Every path to its descendant NULL nodes must contain the same number of black nodes"
   ]
  },
  {
   "cell_type": "markdown",
   "metadata": {},
   "source": [
    "### Sketch\n",
    "\n",
    "Similar to our binary search tree implementation, we will define a class for nodes and a class for the tree itself. The `Node` class will need a couple new attributes. It is no longer enough to only know the children, because we need to ask questions during insertion like, \"what color is my parent's sibling?\". So we will add a parent link as well as the color."
   ]
  },
  {
   "cell_type": "code",
   "execution_count": 1,
   "metadata": {},
   "outputs": [],
   "source": [
    "class Node(object):\n",
    "    def __init__(self, value, parent, color):\n",
    "        self.value = value\n",
    "        self.left = None\n",
    "        self.right = None\n",
    "        self.parent = parent\n",
    "        self.color = color"
   ]
  },
  {
   "cell_type": "markdown",
   "metadata": {},
   "source": [
    "For the tree, we can start with a mostly empty implementation. But we know we want to always insert nodes with color red, so let's fill in the constructor to insert the root node."
   ]
  },
  {
   "cell_type": "code",
   "execution_count": 3,
   "metadata": {},
   "outputs": [],
   "source": [
    "class RedBlackTree(object):\n",
    "    def __init__(self, root):\n",
    "        self.root = Node(root, None, 'red')\n",
    "    \n",
    "    def insert(self, new_val):\n",
    "        pass\n",
    "    \n",
    "    def search(self, find_val):\n",
    "        return False"
   ]
  },
  {
   "cell_type": "markdown",
   "metadata": {},
   "source": [
    "### Insertion\n",
    "\n",
    "Now how would we design our `insert` implementation? We know from our experience with BSTs how most of it will work. We can re-use that portion and augment it to assign colors and parents."
   ]
  },
  {
   "cell_type": "code",
   "execution_count": 4,
   "metadata": {},
   "outputs": [],
   "source": [
    "class RedBlackTree(object):\n",
    "    def __init__(self, root):\n",
    "        self.root = Node(root, None, 'red')\n",
    "        \n",
    "    def insert(self, new_val):\n",
    "        self.insert_helper(self.root, new_val)\n",
    "\n",
    "    def insert_helper(self, current, new_val):\n",
    "        if current.value < new_val:\n",
    "            if current.right:\n",
    "                self.insert_helper(current.right, current, new_val)\n",
    "            else:\n",
    "                current.right = Node(new_val, current, 'red')\n",
    "        else:\n",
    "            if current.left:\n",
    "                self.insert_helper(current.left, current, new_val)\n",
    "            else:\n",
    "                current.left = Node(new_val, current, 'red')"
   ]
  },
  {
   "cell_type": "markdown",
   "metadata": {},
   "source": [
    "### Rotations\n",
    "\n",
    "At this point we are only making a BST, with extra attributes. To make this a red-black tree, we need to add the extra sauce that makes red-black trees awesome. We will sketch out some more code for rebalancing the tree based on the case, and fill them in one at a time.\n",
    "\n",
    "First, we need to change our `insert_helper` to return the node that was inserted so we can interrogate it when rebalancing."
   ]
  },
  {
   "cell_type": "code",
   "execution_count": 5,
   "metadata": {},
   "outputs": [],
   "source": [
    "class RedBlackTree(object):\n",
    "    def __init__(self, root):\n",
    "        self.root = Node(root, None, 'red')\n",
    "        \n",
    "    def insert(self, new_val):\n",
    "        new_node = self.insert_helper(self.root, new_val)\n",
    "        self.rebalance(new_node)\n",
    "\n",
    "    def insert_helper(self, current, new_val):\n",
    "        if current.value < new_val:\n",
    "            if current.right:\n",
    "                return self.insert_helper(current.right, new_val)\n",
    "            else:\n",
    "                current.right = Node(new_val, current, 'red')\n",
    "                return current.right\n",
    "        else:\n",
    "            if current.left:\n",
    "                return self.insert_helper(current.left, new_val)\n",
    "            else:\n",
    "                current.left = Node(new_val, current, 'red')\n",
    "                return current.left\n",
    "    \n",
    "    def rebalance(self, node):\n",
    "        pass"
   ]
  },
  {
   "cell_type": "markdown",
   "metadata": {},
   "source": [
    "#### Case 1\n",
    "\n",
    "_We have just inserted the root node_\n",
    "\n",
    "If we're enforcing that the root must be black, we change its color. We are not enforcing this, so we are all done! Four to go."
   ]
  },
  {
   "cell_type": "code",
   "execution_count": 7,
   "metadata": {},
   "outputs": [],
   "source": [
    "def rebalance(node):\n",
    "    if node.parent == None: \n",
    "        return"
   ]
  },
  {
   "cell_type": "markdown",
   "metadata": {},
   "source": [
    "#### Case 2\n",
    "\n",
    "_We inserted under a black parent node_\n",
    "\n",
    "Thinking through this, we can observe the following: We inserted a red node beneath a black node. The new children (the NULL nodes) are black by definition, and our red node _replaced_ a black NULL node. So the number of black nodes for any paths from parents is unchanged. Nothing to do in this case, either."
   ]
  },
  {
   "cell_type": "code",
   "execution_count": 8,
   "metadata": {},
   "outputs": [],
   "source": [
    "def rebalance(node):    \n",
    "    # Case 1\n",
    "    if node.parent == None:\n",
    "        return\n",
    "    # Case 2\n",
    "    if node.parent.color == 'black':\n",
    "        return"
   ]
  },
  {
   "cell_type": "markdown",
   "metadata": {},
   "source": [
    "#### Case 3\n",
    "\n",
    "_The parent and its sibling of the newly inserted node are both red_\n",
    "\n",
    "Okay, we're done with free cases. In this specific case, we can flip the color of the parent and its sibling. We know they're both red in this case, which means the grandparent is black. It will also need to flip. At that point we will have a freshly painted red node at the grandparent. At that point, we need to do the same evaluation! If the grandparent turns red, and its sibling is also red, that's case 3 again. Guess what that means! Time for more recursion.\n",
    "\n",
    "We will define the `grandparent` and `pibling` (a parent's sibling) methods later, for now let's focus on the core logic."
   ]
  },
  {
   "cell_type": "code",
   "execution_count": 24,
   "metadata": {},
   "outputs": [],
   "source": [
    "def rebalance(self, node):    \n",
    "    # Case 1\n",
    "    if node.parent == None:\n",
    "        return\n",
    "    # Case 2\n",
    "    if node.parent.color == 'black':\n",
    "        return\n",
    "    # From here, we know parent's color is red\n",
    "    # Case 3\n",
    "    if pibling(node).color == 'red':\n",
    "        pibling(node).color = 'black'\n",
    "        node.parent.color = 'black'\n",
    "        grandparent(node).color = 'red'\n",
    "        self.rebalance(grandparent(node))"
   ]
  },
  {
   "cell_type": "markdown",
   "metadata": {},
   "source": [
    "#### Case 4\n",
    "\n",
    "_The newly inserted node has a red parent, but that parent has a black sibling_\n",
    "\n",
    "These last cases get more interesting. The criteria above actually govern case 4 and 5. What separates them is if the newly inserted node is on the _inside_ or the _outside_ of the sub tree. We define _inside_ and _outside_ like this:\n",
    "\n",
    "* inside\n",
    "  * _EITHER_\n",
    "     * the new node is a left child of its parent, but its parent is a right child, or\n",
    "     * the new node is a right child of its parent, but its parent is a left child\n",
    "* outside\n",
    "  * the opposite of inside, the new node and its parent are on the same side of the grandparent\n",
    "  \n",
    "Case 4 is to handle the _inside_ scenario. In this case, we need to rotate. As we will see, this will not finish balancing the tree, but will now qualify for Case 5.\n",
    "\n",
    "We rotate against the inside-ness of the new node. If the new node qualifies for case 4, it needs to move into its parent's spot. If it's on the right of the parent, that's a rotate left. If it's on the left of the parent, that's a rotate right."
   ]
  },
  {
   "cell_type": "code",
   "execution_count": 83,
   "metadata": {},
   "outputs": [],
   "source": [
    "def rebalance(self, node):    \n",
    "    # ... omitted cases 1-3 ...\n",
    "    # Case 4\n",
    "    gp = grandparent(node)\n",
    "    if gp.left and node == gp.left.right:\n",
    "        self.rotate_left(parent(node))\n",
    "    elif gp.right and node == gp.right.left:\n",
    "        self.rotate_right(parent(node))\n",
    "    # TODO: Case 5"
   ]
  },
  {
   "cell_type": "markdown",
   "metadata": {},
   "source": [
    "To implement `rotate_left` and `rotate_right`, think about what we want to accomplish. We want to take one of the node's children and have it take the place of its parent. The given node will move down to a child of the newly parental node."
   ]
  },
  {
   "cell_type": "code",
   "execution_count": 9,
   "metadata": {},
   "outputs": [],
   "source": [
    "def rotate_left(self, node):\n",
    "    # Save off the parent of the sub-tree we're rotating\n",
    "    p = node.parent\n",
    "\n",
    "    node_moving_up = node.right\n",
    "    # After 'node' moves up, the right child will now be a left child\n",
    "    node.right = node_moving_up.left\n",
    "    \n",
    "    # 'node' moves down, to being a left child\n",
    "    node_moving_up.left = node\n",
    "    node.parent = node_moving_up\n",
    "    \n",
    "    # Now we need to connect to the sub-tree's parent\n",
    "    # 'node' may have been the root\n",
    "    if p != None:\n",
    "        if node == p.left:\n",
    "            p.left = node_moving_up\n",
    "        else:\n",
    "            p.right = node_moving_up\n",
    "    node_moving_up.parent = p\n",
    "\n",
    "def rotate_right(self, node):\n",
    "    p = node.parent\n",
    "\n",
    "    node_moving_up = node.left\n",
    "    node.left = node_moving_up.right\n",
    "    \n",
    "    node_moving_up.right = node\n",
    "    node.parent = node_moving_up\n",
    "    \n",
    "    # Now we need to connect to the sub-tree's parent\n",
    "    if p != None:\n",
    "        if node == p.left:\n",
    "            p.left = node_moving_up\n",
    "        else:\n",
    "            p.right = node_moving_up\n",
    "    node_moving_up.parent = p\n",
    "    "
   ]
  },
  {
   "cell_type": "markdown",
   "metadata": {},
   "source": [
    "#### Case 5\n",
    "\n",
    "Now that case 4 is resolved, or if we didn't qualify for case 4 and have an outside sub-tree already, we need to rotate again. If our new node is a left child of a left child, we rotate right. If our new node is a right of a right, we rotate left. This is done on the grandparent node.\n",
    "\n",
    "But after this rotation, our colors will be off. Remember that for cases 3, 4, and 5, the parent of the new node is red. But we will have rotated a red node with a red child up, which violates our rule of all red nodes having two black children. So after rotating, we switch the colors of the (original) parent and grandparent nodes."
   ]
  },
  {
   "cell_type": "code",
   "execution_count": 10,
   "metadata": {},
   "outputs": [],
   "source": [
    "def rebalance(self, node):    \n",
    "    # ... omitted cases 1-3 ...\n",
    "    # Case 4\n",
    "    gp = grandparent(node)\n",
    "    if node == gp.left.right:\n",
    "        self.rotate_left(node.parent)\n",
    "    elif node == gp.right.left:\n",
    "        self.rotate_right(node.parent)\n",
    "\n",
    "    # Case 5\n",
    "    p = node.parent\n",
    "    gp = p.parent\n",
    "    if node == p.left:\n",
    "        self.rotate_right(gp)\n",
    "    else:\n",
    "        self.rotate_left(gp)\n",
    "    p.color = 'black'\n",
    "    gp.color = 'red'\n"
   ]
  },
  {
   "cell_type": "markdown",
   "metadata": {},
   "source": [
    "### Result\n",
    "\n",
    "Combining all of our efforts we have the following."
   ]
  },
  {
   "cell_type": "code",
   "execution_count": 11,
   "metadata": {},
   "outputs": [],
   "source": [
    "class Node(object):\n",
    "    def __init__(self, value, parent, color):\n",
    "        self.value = value\n",
    "        self.left = None\n",
    "        self.right = None\n",
    "        self.parent = parent\n",
    "        self.color = color\n",
    "        \n",
    "    def __repr__(self):\n",
    "        print_color = 'R' if self.color == 'red' else 'B'\n",
    "        return '%d%s' % (self.value, print_color)\n",
    "\n",
    "def grandparent(node):\n",
    "    if node.parent == None:\n",
    "        return None\n",
    "    return node.parent.parent\n",
    "\n",
    "# Helper for finding the node's parent's sibling\n",
    "def pibling(node):\n",
    "    p = node.parent\n",
    "    gp = grandparent(node)\n",
    "    if gp == None:\n",
    "        return None\n",
    "    if p == gp.left:\n",
    "        return gp.right\n",
    "    if p == gp.right:\n",
    "        return gp.left\n",
    "\n",
    "class RedBlackTree(object):\n",
    "    def __init__(self, root):\n",
    "        self.root = Node(root, None, 'red')\n",
    "        \n",
    "    def __iter__(self):\n",
    "        yield from self.root.__iter__()\n",
    "        \n",
    "    def insert(self, new_val):\n",
    "        new_node = self.insert_helper(self.root, new_val)\n",
    "        self.rebalance(new_node)\n",
    "\n",
    "    def insert_helper(self, current, new_val):\n",
    "        if current.value < new_val:\n",
    "            if current.right:\n",
    "                return self.insert_helper(current.right, new_val)\n",
    "            else:\n",
    "                current.right = Node(new_val, current, 'red')\n",
    "                return current.right\n",
    "        else:\n",
    "            if current.left:\n",
    "                return self.insert_helper(current.left, new_val)\n",
    "            else:\n",
    "                current.left = Node(new_val, current, 'red')\n",
    "                return current.left\n",
    "\n",
    "    def rebalance(self, node):    \n",
    "        # Case 1\n",
    "        if node.parent == None:\n",
    "            return\n",
    "        \n",
    "        # Case 2\n",
    "        if node.parent.color == 'black':\n",
    "            return\n",
    "        \n",
    "        # Case 3\n",
    "        if pibling(node) and pibling(node).color == 'red':\n",
    "            pibling(node).color = 'black'\n",
    "            node.parent.color = 'black'\n",
    "            grandparent(node).color = 'red'\n",
    "            return self.rebalance(grandparent(node))\n",
    "        \n",
    "        gp = grandparent(node)        \n",
    "        # Small change, if there is no grandparent, cases 4 and 5\n",
    "        # won't apply\n",
    "        if gp == None:\n",
    "            return\n",
    "        \n",
    "        # Case 4\n",
    "        if gp.left and node == gp.left.right:\n",
    "            self.rotate_left(node.parent)\n",
    "            node = node.left\n",
    "        elif gp.right and node == gp.right.left:\n",
    "            self.rotate_right(node.parent)\n",
    "            node = node.right\n",
    "\n",
    "        # Case 5\n",
    "        p = node.parent\n",
    "        gp = p.parent\n",
    "        if node == p.left:\n",
    "            self.rotate_right(gp)\n",
    "        else:\n",
    "            self.rotate_left(gp)\n",
    "        p.color = 'black'\n",
    "        gp.color = 'red'\n",
    "\n",
    "    def rotate_left(self, node):\n",
    "        # Save off the parent of the sub-tree we're rotating\n",
    "        p = node.parent\n",
    "\n",
    "        node_moving_up = node.right\n",
    "        # After 'node' moves up, the right child will now be a left child\n",
    "        node.right = node_moving_up.left\n",
    "\n",
    "        # 'node' moves down, to being a left child\n",
    "        node_moving_up.left = node\n",
    "        node.parent = node_moving_up\n",
    "\n",
    "        # Now we need to connect to the sub-tree's parent\n",
    "        # 'node' may have been the root\n",
    "        if p != None:\n",
    "            if node == p.left:\n",
    "                p.left = node_moving_up\n",
    "            else:\n",
    "                p.right = node_moving_up\n",
    "        node_moving_up.parent = p\n",
    "\n",
    "    def rotate_right(self, node):\n",
    "        p = node.parent\n",
    "\n",
    "        node_moving_up = node.left\n",
    "        node.left = node_moving_up.right\n",
    "\n",
    "        node_moving_up.right = node\n",
    "        node.parent = node_moving_up\n",
    "\n",
    "        # Now we need to connect to the sub-tree's parent\n",
    "        if p != None:\n",
    "            if node == p.left:\n",
    "                p.left = node_moving_up\n",
    "            else:\n",
    "                p.right = node_moving_up\n",
    "        node_moving_up.parent = p"
   ]
  },
  {
   "cell_type": "markdown",
   "metadata": {},
   "source": [
    "### Testing\n",
    "\n",
    "We've written a lot of code. Let's see how the tree mutates as we add nodes.\n",
    "\n",
    "First, we'll need a way to visualize the tree. The below will nest, but remember the first child is always the left child."
   ]
  },
  {
   "cell_type": "code",
   "execution_count": 4,
   "metadata": {},
   "outputs": [],
   "source": [
    "def print_tree(node, level=0):\n",
    "    print('   ' * (level - 1) + '+--' * (level > 0) + '%s' % node)\n",
    "    if node.left:\n",
    "        print_tree(node.left, level + 1)\n",
    "    if node.right:\n",
    "        print_tree(node.right, level + 1)"
   ]
  },
  {
   "cell_type": "markdown",
   "metadata": {},
   "source": [
    "For cases 1 and 2, we can insert the first few nodes and see the tree behaves the same as a BST."
   ]
  },
  {
   "cell_type": "code",
   "execution_count": 13,
   "metadata": {},
   "outputs": [
    {
     "name": "stdout",
     "output_type": "stream",
     "text": [
      "9R\n",
      "+--6R\n",
      "+--19R\n"
     ]
    }
   ],
   "source": [
    "tree = RedBlackTree(9)\n",
    "tree.insert(6)\n",
    "tree.insert(19)\n",
    "\n",
    "print_tree(tree.root)"
   ]
  },
  {
   "cell_type": "markdown",
   "metadata": {},
   "source": [
    "Inserting 13 should flip 6 and 19 to black, as it hits our Case 3 logic."
   ]
  },
  {
   "cell_type": "code",
   "execution_count": 14,
   "metadata": {},
   "outputs": [
    {
     "name": "stdout",
     "output_type": "stream",
     "text": [
      "9R\n",
      "+--6B\n",
      "+--19B\n",
      "   +--13R\n"
     ]
    }
   ],
   "source": [
    "tree.insert(13)\n",
    "print_tree(tree.root)"
   ]
  },
  {
   "cell_type": "markdown",
   "metadata": {},
   "source": [
    "Observe that 13 was inserted as red, and then because of Case 3, 6 and 19 flipped to black. 9 was also assigned red, but that was not a net change. Because we're not enforcing the optional \"root is always black rule\", this is acceptable.\n",
    "\n",
    "Now let's cause some rotations. When we insert 16, it goes under 13, but 13 does not have a red sibling. 16 rotates into 13's spot, because it's currently an _inside_ sub-tree. Then 16 rotates into 19's spot. After these rotations, the ordering of the BST has been preserved _and_ our tree is balanced."
   ]
  },
  {
   "cell_type": "code",
   "execution_count": 15,
   "metadata": {},
   "outputs": [
    {
     "name": "stdout",
     "output_type": "stream",
     "text": [
      "9R\n",
      "+--6B\n",
      "+--16B\n",
      "   +--13R\n",
      "   +--19R\n"
     ]
    }
   ],
   "source": [
    "tree.insert(16)\n",
    "print_tree(tree.root)"
   ]
  },
  {
   "cell_type": "markdown",
   "metadata": {
    "collapsed": true
   },
   "source": [
    "# 👏👏👏👏👏\n",
    "\n",
    "You've done it! Go ahead and pat yourself on the back! This is a complex use of a data structure that has significant power. It uses _O(n)_ space and insertions and search perform in _O(log n)_ time."
   ]
  },
  {
   "cell_type": "markdown",
   "metadata": {},
   "source": [
    "## Further Exercises\n",
    "\n",
    "To continue exploring our red-black tree implementation, you might try the following.\n",
    "* Observe that our current implementation will add duplicates of the same value. Is that desirable? How would you expect that to behave? Change the implementation to mark how many times the same value has been inserted.\n",
    "* Implement search and see how it remains logarithmic for large data sets\n",
    "* Tinker with the rotations and early escapes to see how they break (use `print_tree`)\n",
    "* Consider adding deletion or sketching out how it should work"
   ]
  },
  {
   "cell_type": "markdown",
   "metadata": {},
   "source": [
    "## Practice\n",
    "\n",
    "My implementation of red-black tree with insert functionality, based on learnings from MIT lecture on the same: https://www.youtube.com/watch?v=O3hI9FdxFOM. Implementation-wise, Udacity's solution doesn't ensure that root is kept black, whereas I'm adhering to the lecuture, according to which root must be kept black. \n",
    "\n",
    "I've also added duplicate counting as well as search funcionality as suggested in 'Further Exercises'.\n",
    "\n",
    "NOTE: I forgot to update the parent pointers while moving nodes around during rotation. So, I defined setter function for the class Node, that automatically updates parent pointer of the child node being set. In this regard, think there are some bugs in Udacity's solution, they are not setting the parent pointer of child being transfered during rotate operation correctly."
   ]
  },
  {
   "cell_type": "code",
   "execution_count": 17,
   "metadata": {},
   "outputs": [],
   "source": [
    "def get_grandparent(node):\n",
    "    '''\n",
    "    Get grandparent of node\n",
    "    '''\n",
    "    if node:\n",
    "        parent = node.parent\n",
    "        if parent:\n",
    "            return parent.parent\n",
    "    return None # not necessary, function by default returns None, but just adding here for clarity\n",
    "\n",
    "def get_pibling(node):\n",
    "    '''\n",
    "    Get node's parent's sibling\n",
    "    '''\n",
    "    gp = get_grandparent(node)\n",
    "    if gp:\n",
    "        if gp.left == node.parent:\n",
    "            return gp.right\n",
    "        else:\n",
    "            return gp.left\n",
    "        "
   ]
  },
  {
   "cell_type": "code",
   "execution_count": 34,
   "metadata": {},
   "outputs": [],
   "source": [
    "class Node:\n",
    "    def __init__(self, value, parent, color):\n",
    "        self.value = value\n",
    "        self.left = None\n",
    "        self.right = None\n",
    "        self.parent = parent\n",
    "        self.color = color\n",
    "        self.num_duplicates = 0\n",
    "        \n",
    "    def set_left_child(self, left):\n",
    "        self.left = left\n",
    "        if left is not None:\n",
    "            left.parent = self\n",
    "        \n",
    "    def set_right_child(self, right):\n",
    "        self.right = right\n",
    "        if right is not None:\n",
    "            right.parent = self\n",
    "        \n",
    "    def __repr__(self):\n",
    "        print_color = 'R' if self.color == 'red' else 'B'\n",
    "        return f\"{self.value}{print_color}\"\n",
    "        \n",
    "class RedBlackTree:\n",
    "    def __init__(self, value):\n",
    "        self.root = Node(value, None, 'black')\n",
    "        \n",
    "    def _insert_helper(self, node, new_value):\n",
    "        '''\n",
    "        Inserts new value in the subtree rooted at node, and returns the inserted node\n",
    "        '''\n",
    "        if new_value < node.value:\n",
    "            if node.left is not None:\n",
    "                return self._insert_helper(node.left, new_value)\n",
    "            else:\n",
    "                node.set_left_child(Node(new_value, node, 'red'))\n",
    "                return node.left\n",
    "        elif new_value > node.value:\n",
    "            if node.right is not None:\n",
    "                return self._insert_helper(node.right, new_value)\n",
    "            else:\n",
    "                node.set_right_child(Node(new_value, node, 'red'))\n",
    "                return node.right\n",
    "        else: # in case value is equal to current, do nothing\n",
    "            node.num_duplicates += 1\n",
    "            return node\n",
    "            \n",
    "    def insert(self, new_value):\n",
    "        if self.root is None:\n",
    "            self.root = Node(new_value, None, 'black')\n",
    "            return\n",
    "        \n",
    "        inserted_node = self._insert_helper(self.root, new_value)\n",
    "        self.rebalance(inserted_node)\n",
    "        self.root.color = 'black'\n",
    "        \n",
    "        \n",
    "    def _search_helper(self, node, find_value):\n",
    "        if node is None:\n",
    "            return False\n",
    "        \n",
    "        if find_value < node.value:\n",
    "            return self._search_helper(node.left, find_value)\n",
    "        elif find_value > node.value:\n",
    "            return self._search_helper(node.right, find_value)\n",
    "        else:\n",
    "            return True\n",
    "                \n",
    "    def search(self, find_value):\n",
    "        return self._search_helper(self.root, find_value)\n",
    "    \n",
    "    def rotate_left(self, pivot):\n",
    "        '''\n",
    "        Rotate left about pivot and connect the new node in pivot's position, to the parent of subtree centered at pivot\n",
    "        '''\n",
    "        # saving parent of pivot, to be used later to connect the node that replaces pivot to pivot's parent\n",
    "        parent = pivot.parent\n",
    "        right_child = pivot.right\n",
    "        \n",
    "        pivot.set_right_child(right_child.left)\n",
    "        right_child.set_left_child(pivot)\n",
    "        \n",
    "        # promote right child up, to pivot's position\n",
    "        if parent is None: # parent would have been none if pivot were root\n",
    "            right_child.parent = None # now, right_child is root\n",
    "            self.root = right_child\n",
    "        else:\n",
    "            if pivot == parent.left:\n",
    "                parent.set_left_child(right_child)\n",
    "            else:\n",
    "                parent.set_right_child(right_child)\n",
    "        \n",
    "    def rotate_right(self, pivot):\n",
    "        '''\n",
    "        Rotate left about pivot and connect the new node in pivot's position, to the parent of subtree centered at pivot\n",
    "        '''\n",
    "         # saving parent of pivot, to be used later to connect the node that replaces pivot to pivot's parent\n",
    "        parent = pivot.parent\n",
    "        left_child = pivot.left\n",
    "        \n",
    "        pivot.set_left_child(left_child.right)\n",
    "        left_child.set_right_child(pivot)\n",
    "        \n",
    "        # promote right child up, to pivot's position\n",
    "        if parent is None: # parent would have been none if pivot were root\n",
    "            left_child.parent = None # now, left_child is root\n",
    "            self.root = left_child\n",
    "        else:\n",
    "            if pivot == parent.left:\n",
    "                parent.set_left_child(left_child)\n",
    "            else:\n",
    "                parent.set_right_child(left_child)\n",
    "        \n",
    "    def rebalance(self, node):\n",
    "        '''\n",
    "        Rebalance the tree after inserting node\n",
    "        '''\n",
    "        if node.parent is None: # node is root\n",
    "            return \n",
    "        \n",
    "        if node.parent.color == 'black': # nothing to be done\n",
    "            return\n",
    "        \n",
    "        pibling = get_pibling(node)\n",
    "        gp = get_grandparent(node)\n",
    "        \n",
    "        # if there's no grandparent, following cases won't apply\n",
    "        if gp is None:\n",
    "            return\n",
    "        \n",
    "        if pibling and pibling.color == 'red': # requires only re-coloring\n",
    "            gp.color = 'red'\n",
    "            pibling.color = 'black'\n",
    "            node.parent.color = 'black'\n",
    "            self.rebalance(gp)\n",
    "        else: # pibling is black or NIL (external black node), requires rotations (at max 2, then, tree is fixed for good)\n",
    "            \n",
    "            # case 1: if left-right, rotate left, rotate right, recolor\n",
    "            # case 2: if right-left, rotate right, rotate left, recolor (symmetric opposite of case 1)\n",
    "            # case 3: if left-left, rotate right, recolor\n",
    "            # case 4: id right-right, rotate left, recolor (symmetric oppostie of case 3)\n",
    "            \n",
    "            p = node.parent\n",
    "            if p == gp.left:\n",
    "                if node == p.right: # case 1\n",
    "                    self.rotate_left(p)   \n",
    "                # case 3 (and second part of case 1)\n",
    "                self.rotate_right(gp)\n",
    "\n",
    "            else:\n",
    "                if node == p.left: # case 2\n",
    "                    self.rotate_right(p)\n",
    "                    \n",
    "                # case 4 (and second part of case 2)\n",
    "                self.rotate_left(gp)\n",
    "                \n",
    "            # recolor\n",
    "            gp.color = 'red'\n",
    "            gp.parent.color = 'black'\n",
    "            \n",
    "    def _print_helper(self, node, which_child='', level=0):\n",
    "        print('   ' * (level - 1) + '+--' * (level > 0) + which_child + '%s' % node)\n",
    "        if node.left:\n",
    "            self._print_helper(node.left, 'left ', level + 1)\n",
    "        if node.right:\n",
    "            self._print_helper(node.right, 'right ', level + 1)\n",
    "            \n",
    "    def _print(self):\n",
    "        '''\n",
    "        Prints tree, same as print_tree(), but I've added the information of left/right child, for ease of debugging\n",
    "        '''\n",
    "        self._print_helper(self.root)"
   ]
  },
  {
   "cell_type": "code",
   "execution_count": 19,
   "metadata": {},
   "outputs": [
    {
     "name": "stdout",
     "output_type": "stream",
     "text": [
      "9B\n",
      "+--left 6R\n",
      "+--right 19R\n"
     ]
    }
   ],
   "source": [
    "# Incremental testing\n",
    "\n",
    "# # node creation\n",
    "# A = Node(9, None, 'red')\n",
    "# A\n",
    "\n",
    "# # tree initialization\n",
    "# T = RedBlackTree(10)\n",
    "# T.root\n",
    "\n",
    "# # BST insert, i.e. with self.balance()  line commented out from self.insert() in RedBlackTree definition\n",
    "# tree = RedBlackTree(9)\n",
    "# tree.insert(6)\n",
    "# tree.insert(19)\n",
    "# tree.insert(13)\n",
    "# tree.insert(16)\n",
    "\n",
    "# print('Original Tree: ')\n",
    "# tree._print()\n",
    "\n",
    "# # rotation\n",
    "# probe = tree.root.right.left\n",
    "# print('Probe: %s' % probe) # should print 13R\n",
    "\n",
    "# print('\\nLeft Rotated Tree: ')\n",
    "# tree.rotate_left(probe)\n",
    "# tree._print()\n",
    "\n",
    "# probe = tree.root.right\n",
    "# print('\\nProbe: %s' % probe) # should print 19R\n",
    "\n",
    "# print('\\nRight Rotated Tree: ')\n",
    "# tree.rotate_right(probe)\n",
    "# tree._print()\n",
    "\n",
    "# red-black tree insert\n",
    "tree = RedBlackTree(9)\n",
    "tree.insert(6)\n",
    "tree.insert(19)\n",
    "tree._print()"
   ]
  },
  {
   "cell_type": "code",
   "execution_count": 20,
   "metadata": {},
   "outputs": [
    {
     "name": "stdout",
     "output_type": "stream",
     "text": [
      "9B\n",
      "+--left 6B\n",
      "+--right 19B\n",
      "   +--left 13R\n"
     ]
    }
   ],
   "source": [
    "tree.insert(13)\n",
    "tree._print()"
   ]
  },
  {
   "cell_type": "code",
   "execution_count": 21,
   "metadata": {},
   "outputs": [
    {
     "name": "stdout",
     "output_type": "stream",
     "text": [
      "9B\n",
      "+--left 6B\n",
      "+--right 16B\n",
      "   +--left 13R\n",
      "   +--right 19R\n"
     ]
    }
   ],
   "source": [
    "tree.insert(16)\n",
    "tree._print()"
   ]
  },
  {
   "cell_type": "markdown",
   "metadata": {},
   "source": [
    "Awesome! Insert works!"
   ]
  },
  {
   "cell_type": "code",
   "execution_count": 22,
   "metadata": {},
   "outputs": [
    {
     "name": "stdout",
     "output_type": "stream",
     "text": [
      "0\n",
      "9B\n",
      "+--left 6B\n",
      "+--right 16B\n",
      "   +--left 13R\n",
      "   +--right 19R\n",
      "1\n"
     ]
    }
   ],
   "source": [
    "## testing duplicate counting - works!\n",
    "print(tree.root.right.num_duplicates)\n",
    "\n",
    "tree.insert(16)\n",
    "tree._print()\n",
    "\n",
    "print(tree.root.right.num_duplicates)"
   ]
  },
  {
   "cell_type": "code",
   "execution_count": 23,
   "metadata": {},
   "outputs": [
    {
     "name": "stdout",
     "output_type": "stream",
     "text": [
      "True\n",
      "True\n",
      "False\n"
     ]
    }
   ],
   "source": [
    "# testing search\n",
    "print(tree.search(6))\n",
    "print(tree.search(19))\n",
    "print(tree.search(5))"
   ]
  },
  {
   "cell_type": "code",
   "execution_count": 66,
   "metadata": {},
   "outputs": [
    {
     "data": {
      "text/plain": [
       "[]"
      ]
     },
     "execution_count": 66,
     "metadata": {},
     "output_type": "execute_result"
    },
    {
     "data": {
      "image/png": "[encoded data removed]",
      "text/plain": [
       "<matplotlib.figure.Figure at 0x7f47ae00a860>"
      ]
     },
     "metadata": {
      "needs_background": "light"
     },
     "output_type": "display_data"
    }
   ],
   "source": [
    "# verifying if search remains logarithmic for large datasets\n",
    "\n",
    "import matplotlib.pyplot as plt\n",
    "import time\n",
    "import numpy as np\n",
    "%matplotlib inline\n",
    "\n",
    "times = []\n",
    "big_array = range(10, 10000, 10)\n",
    "for idx, element in enumerate(big_array):\n",
    "    if idx == 0:\n",
    "        T = RedBlackTree(element)\n",
    "    else:\n",
    "        T.insert(element)\n",
    "    \n",
    "    # searching for the most recently inserted element, to ensure that much of the height is\n",
    "    # traversed. If the tree is constructed right, it should take O(logn) time to search.\n",
    "    start_time = time.time()\n",
    "    _ = T.search(element)\n",
    "    times.append((time.time() - start_time)*1e6) \n",
    "    \n",
    "x = range(1, len(big_array)+1)\n",
    "y = np.log2(x)\n",
    "plt.scatter(x, times, label=\"search\")\n",
    "plt.scatter(x, y, label=\"log2(n)\")\n",
    "# plt.ylim(top=max(times), bottom=min(times))\n",
    "plt.ylim(top=20., bottom=min(times)) # clipping at 20 microseconds to get rid of some outliers\n",
    "plt.xlabel('N')\n",
    "plt.ylabel('Time (microseconds)')\n",
    "plt.legend(loc=\"upper left\")\n",
    "plt.plot()"
   ]
  },
  {
   "cell_type": "markdown",
   "metadata": {},
   "source": [
    "As, can be seen the logarihmic shape of the curve is very clearly visible, plotting log2(n) for shape comparison. Similarity, in shape suggests, search operation stays logarithmic even for large datasets."
   ]
  },
  {
   "cell_type": "code",
   "execution_count": null,
   "metadata": {},
   "outputs": [],
   "source": []
  }
 ],
 "metadata": {
  "kernelspec": {
   "display_name": "Python 3",
   "language": "python",
   "name": "python3"
  },
  "language_info": {
   "codemirror_mode": {
    "name": "ipython",
    "version": 3
   },
   "file_extension": ".py",
   "mimetype": "text/x-python",
   "name": "python",
   "nbconvert_exporter": "python",
   "pygments_lexer": "ipython3",
   "version": "3.6.3"
  },
  "widgets": {
   "state": {},
   "version": "1.1.2"
  }
 },
 "nbformat": 4,
 "nbformat_minor": 2
}
