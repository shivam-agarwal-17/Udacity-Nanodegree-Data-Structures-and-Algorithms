{
 "cells": [
  {
   "cell_type": "markdown",
   "metadata": {
    "graffitiCellId": "id_vwxoyg1"
   },
   "source": [
    "# Reversing a String"
   ]
  },
  {
   "cell_type": "markdown",
   "metadata": {
    "graffitiCellId": "id_b24w32i"
   },
   "source": [
    "The goal in this notebook will be to get practice with a problem that is frequently solved by recursion: Reversing a string.\n",
    "\n",
    "Note that Python has a built-in function that you could use for this, but the goal here is to avoid that and understand how it can be done using recursion instead."
   ]
  },
  {
   "cell_type": "code",
   "execution_count": 3,
   "metadata": {
    "graffitiCellId": "id_ericocu"
   },
   "outputs": [],
   "source": [
    "# Code\n",
    "# NOTE: I've consciously tried to avoid slicing operation in Python, since we were advised against it\n",
    "# as it takes O(n) at least in case of arrays early in this lesson, would like to check if \n",
    "# it's the same case with strings as well. Done that in the last cell of this notebook.\n",
    "\n",
    "def _revser_string_helper(string, index):\n",
    "    if index == 0:\n",
    "        return string[index]\n",
    "    return string[index] + _revser_string_helper(string, index-1)\n",
    "\n",
    "def reverse_string(input):\n",
    "    \"\"\"\n",
    "    Return reversed input string\n",
    "    \n",
    "    Examples:\n",
    "       reverse_string(\"abc\") returns \"cba\"\n",
    "    \n",
    "    Args:\n",
    "      input(str): string to be reversed\n",
    "    \n",
    "    Returns:\n",
    "      a string that is the reverse of input\n",
    "    \"\"\"\n",
    "    \n",
    "    # TODO: Write your recursive string reverser solution here\n",
    "    if len(input) == 0:\n",
    "        return input\n",
    "    return _revser_string_helper(input, len(input)-1)"
   ]
  },
  {
   "cell_type": "code",
   "execution_count": 4,
   "metadata": {
    "graffitiCellId": "id_0zqr9ts"
   },
   "outputs": [
    {
     "name": "stdout",
     "output_type": "stream",
     "text": [
      "Pass\n",
      "Pass\n"
     ]
    }
   ],
   "source": [
    "# Test Cases\n",
    "    \n",
    "print (\"Pass\" if  (\"\" == reverse_string(\"\")) else \"Fail\")\n",
    "print (\"Pass\" if  (\"cba\" == reverse_string(\"abc\")) else \"Fail\")"
   ]
  },
  {
   "cell_type": "markdown",
   "metadata": {
    "graffitiCellId": "id_4uzxsts"
   },
   "source": [
    "<span class=\"graffiti-highlight graffiti-id_4uzxsts-id_3o4r993\"><i></i><button>Hide Solution</button></span>"
   ]
  },
  {
   "cell_type": "code",
   "execution_count": null,
   "metadata": {
    "graffitiCellId": "id_3o4r993"
   },
   "outputs": [],
   "source": [
    "# Solution\n",
    "\n",
    "def reverse_string(input):\n",
    "    \"\"\"\n",
    "    Return reversed input string\n",
    "    \n",
    "    Examples:\n",
    "       reverse_string(\"abc\") returns \"cba\"\n",
    "    \n",
    "    Args:\n",
    "      input(str): string to be reversed\n",
    "    \n",
    "    Returns:\n",
    "      a string that us reversed of input\n",
    "    \"\"\"\n",
    "    if len(input) == 0:\n",
    "        return \"\"\n",
    "    else:\n",
    "        first_char = input[0]\n",
    "        the_rest = slice(1, None)\n",
    "        sub_string = input[the_rest]\n",
    "        reversed_substring = reverse_string(sub_string)\n",
    "        return reversed_substring + first_char\n",
    "\n",
    "print (\"Pass\" if  (\"\" == reverse_string(\"\")) else \"Fail\")\n",
    "print (\"Pass\" if  (\"cba\" == reverse_string(\"abc\")) else \"Fail\")\n"
   ]
  },
  {
   "cell_type": "markdown",
   "metadata": {
    "graffitiCellId": "id_gd7yv8f"
   },
   "source": [
    "## Checking if string slicing is also a linear operation?"
   ]
  },
  {
   "cell_type": "code",
   "execution_count": 4,
   "metadata": {
    "graffitiCellId": "id_gd7yv8f"
   },
   "outputs": [
    {
     "data": {
      "text/plain": [
       "[]"
      ]
     },
     "execution_count": 4,
     "metadata": {},
     "output_type": "execute_result"
    },
    {
     "data": {
      "image/png": "[encoded data removed]",
      "text/plain": [
       "<matplotlib.figure.Figure at 0x7f4b3f5246a0>"
      ]
     },
     "metadata": {
      "needs_background": "light"
     },
     "output_type": "display_data"
    }
   ],
   "source": [
    "import matplotlib.pyplot as plt\n",
    "import time\n",
    "%matplotlib inline\n",
    "\n",
    "n_steps = 10\n",
    "step_size = 1000000\n",
    "big_array = list(range(n_steps*step_size))\n",
    "big_str = ','.join([str(n) for n in big_array])\n",
    "str_sizes = list(range(step_size, len(big_str), step_size))\n",
    "times = []\n",
    "\n",
    "# Calculate the time it takes for the slice function to run with different sizes of k\n",
    "for str_size in str_sizes:\n",
    "    start_time = time.time()\n",
    "    big_str[:str_size]\n",
    "    times.append(time.time() - start_time)\n",
    "\n",
    "# Graph the results\n",
    "plt.scatter(x=str_sizes, y=times)\n",
    "plt.ylim(top=max(times), bottom=min(times))\n",
    "plt.xlabel('Str Size')\n",
    "plt.ylabel('Time (seconds)')\n",
    "plt.plot()"
   ]
  }
 ],
 "metadata": {
  "graffiti": {
   "firstAuthorId": "10694620118",
   "id": "id_engua4l",
   "language": "EN"
  },
  "kernelspec": {
   "display_name": "Python 3",
   "language": "python",
   "name": "python3"
  },
  "language_info": {
   "codemirror_mode": {
    "name": "ipython",
    "version": 3
   },
   "file_extension": ".py",
   "mimetype": "text/x-python",
   "name": "python",
   "nbconvert_exporter": "python",
   "pygments_lexer": "ipython3",
   "version": "3.6.3"
  }
 },
 "nbformat": 4,
 "nbformat_minor": 2
}
