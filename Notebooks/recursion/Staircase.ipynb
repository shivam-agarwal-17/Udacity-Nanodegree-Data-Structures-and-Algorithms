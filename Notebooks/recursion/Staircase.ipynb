{
 "cells": [
  {
   "cell_type": "markdown",
   "metadata": {
    "graffitiCellId": "id_v5swjqy"
   },
   "source": [
    "### Problem Statement\n",
    "\n",
    "Suppose there is a staircase that you can climb in either 1 step, 2 steps, or 3 steps. In how many possible ways can you climb the staircase if the staircase has `n` steps? Write a recursive function to solve the problem.\n",
    "\n",
    "**Example:**\n",
    "\n",
    "* `n = 3`\n",
    "* `output = 4`\n",
    "    \n",
    "The output is `4` because there are four ways we can climb the staircase:\n",
    "    \n",
    "    1. 1 step +  1 step + 1 step\n",
    "    2. 1 step + 2 steps \n",
    "    3. 2 steps + 1 step\n",
    "    4. 3 steps"
   ]
  },
  {
   "cell_type": "code",
   "execution_count": 1,
   "metadata": {
    "graffitiCellId": "id_yv3ymjf"
   },
   "outputs": [],
   "source": [
    "def staircase(n):\n",
    "    \"\"\"\n",
    "    :param: n - number of steps in the staircase\n",
    "    Return number of possible ways in which you can climb the staircase\n",
    "    TODO - write a recursive function to solve this problem\n",
    "    \"\"\"\n",
    "    \n",
    "    '''\n",
    "    NOTE: I was pretty close to the correct solution but gave up, one mistake that I was making was that for case of n = 0, I \n",
    "    was returning 0 steps, but it should be 1 step. But otherwise, my thinking process seemed correct: if there are three \n",
    "    different allowed steps, and I am on the starting step, I could either take one of those three allowed steps, and then call \n",
    "    staircase() recursively for the remaining steps, and finally add all the number of steps coming from aforementioned three \n",
    "    choices. This is essentially same as what is being done in the solution attached with the notebook. See \n",
    "    https://www.youtube.com/watch?v=5o-kdjv7FD0 for a good description of the problem and its solution. The video presents the \n",
    "    solution as being a variant of fibonacci series. It also shows how a DP inspired solution would be much more efficient as \n",
    "    compared to the following solution.\n",
    "    '''\n",
    "    if n <= 0:\n",
    "        return 1\n",
    "        \n",
    "    if n == 1:\n",
    "        return 1\n",
    "    elif n == 2:\n",
    "        return 2\n",
    "    elif n == 3:\n",
    "        return 4\n",
    "    \n",
    "    return staircase(n-1) + staircase(n-2) + staircase(n-3)"
   ]
  },
  {
   "cell_type": "markdown",
   "metadata": {
    "graffitiCellId": "id_w7lklez"
   },
   "source": [
    "<span class=\"graffiti-highlight graffiti-id_w7lklez-id_brqvnra\"><i></i><button>Show Solution</button></span>"
   ]
  },
  {
   "cell_type": "code",
   "execution_count": 2,
   "metadata": {
    "graffitiCellId": "id_qnr80ry"
   },
   "outputs": [],
   "source": [
    "def test_function(test_case):\n",
    "    n = test_case[0]\n",
    "    solution = test_case[1]\n",
    "    output = staircase(n)\n",
    "    if output == solution:\n",
    "        print(\"Pass\")\n",
    "    else:\n",
    "        print(\"Fail\")"
   ]
  },
  {
   "cell_type": "code",
   "execution_count": 3,
   "metadata": {
    "graffitiCellId": "id_6g7yxbj"
   },
   "outputs": [
    {
     "name": "stdout",
     "output_type": "stream",
     "text": [
      "Pass\n"
     ]
    }
   ],
   "source": [
    "n = 3\n",
    "solution = 4\n",
    "test_case = [n, solution]\n",
    "test_function(test_case)"
   ]
  },
  {
   "cell_type": "code",
   "execution_count": 4,
   "metadata": {
    "graffitiCellId": "id_1q0pz7y"
   },
   "outputs": [
    {
     "name": "stdout",
     "output_type": "stream",
     "text": [
      "Pass\n"
     ]
    }
   ],
   "source": [
    "n = 4\n",
    "solution = 7\n",
    "test_case = [n, solution]\n",
    "test_function(test_case)"
   ]
  },
  {
   "cell_type": "code",
   "execution_count": 5,
   "metadata": {
    "graffitiCellId": "id_p3uxb7h"
   },
   "outputs": [
    {
     "name": "stdout",
     "output_type": "stream",
     "text": [
      "Pass\n"
     ]
    }
   ],
   "source": [
    "n = 7\n",
    "solution = 44\n",
    "test_case = [n, solution]\n",
    "test_function(test_case)"
   ]
  }
 ],
 "metadata": {
  "graffiti": {
   "firstAuthorId": "dev",
   "id": "id_qnn6fxn",
   "language": "EN"
  },
  "kernelspec": {
   "display_name": "Python 3",
   "language": "python",
   "name": "python3"
  },
  "language_info": {
   "codemirror_mode": {
    "name": "ipython",
    "version": 3
   },
   "file_extension": ".py",
   "mimetype": "text/x-python",
   "name": "python",
   "nbconvert_exporter": "python",
   "pygments_lexer": "ipython3",
   "version": "3.6.3"
  }
 },
 "nbformat": 4,
 "nbformat_minor": 2
}
