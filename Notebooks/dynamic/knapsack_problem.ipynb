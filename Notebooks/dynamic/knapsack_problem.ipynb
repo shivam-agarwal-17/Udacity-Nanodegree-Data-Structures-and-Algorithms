{
 "cells": [
  {
   "cell_type": "markdown",
   "metadata": {
    "graffitiCellId": "id_afkw8pd"
   },
   "source": [
    "# Knapsack Problem\n",
    "Now that you saw the dynamic programming solution for the knapsack problem, it's time to implement it. Implement the function `max_value` to return the maximum value given the items (`items`) and the maximum weight of the knapsack (`knapsack_max_weight`). The `items` variable is the type `Item`, which is a [named tuple](https://docs.python.org/3/library/collections.html#collections.namedtuple)."
   ]
  },
  {
   "cell_type": "code",
   "execution_count": 9,
   "metadata": {
    "graffitiCellId": "id_p48fhwc"
   },
   "outputs": [],
   "source": [
    "import collections\n",
    "\n",
    "Item = collections.namedtuple('Item', ['weight', 'value'])\n",
    "\n",
    "\n",
    "def max_value(knapsack_max_weight, items):\n",
    "    \"\"\"\n",
    "    Get the maximum value of the knapsack.\n",
    "    \"\"\"\n",
    "    \n",
    "    '''\n",
    "    NOTE: I understood the solution to this problem by watching https://www.youtube.com/watch?v=xCbYmUPvc2Q\n",
    "    '''\n",
    "    \n",
    "    num_rows = len(items) # rows represent how many items are we allowed to use for that sub-problem,\n",
    "    # for instance, row_idx 0 would mean we can use only 1st item, row_idx 1, would mean that we \n",
    "    # can use first two items\n",
    "\n",
    "    num_cols = knapsack_max_weight+1 # columns represent the max weight limit for that \n",
    "    # particular sub-problem\n",
    "    \n",
    "    max_value_mat = [[0] * (num_cols) for _ in range(num_rows)] # creating a 2D list to store the solutions to sub-problems\n",
    "    \n",
    "    for row_idx in range(num_rows):\n",
    "        for col_idx in range(num_cols):\n",
    "            \n",
    "            max_wt = col_idx # max weight for the subproblem, adding this extra assignment \n",
    "            # just for the sake of clarity\n",
    "            \n",
    "            curr_item = items[row_idx]\n",
    "            \n",
    "            if row_idx == 0: # if we were allowed to use only first item\n",
    "                if curr_item.weight <= max_wt:\n",
    "                    max_value_mat[row_idx][max_wt] = curr_item.value\n",
    "                    continue\n",
    "\n",
    "            if curr_item.weight <= max_wt:\n",
    "            \n",
    "                choice_1 = max_value_mat[row_idx-1][col_idx] # don't select the current item\n",
    "                choice_2 = max_value_mat[row_idx-1][max_wt - curr_item.weight] + curr_item.value  # select the current item\n",
    "                max_value_mat[row_idx][max_wt] = max(choice_1, choice_2)\n",
    "            \n",
    "            else: # cannot select the current item\n",
    "                \n",
    "                max_value_mat[row_idx][max_wt] = max_value_mat[row_idx-1][col_idx] # same as choice_1 above         \n",
    "     \n",
    "    return max_value_mat[-1][-1]\n",
    "    \n",
    "\n",
    "tests = [\n",
    "    {\n",
    "        'correct_output': 14,\n",
    "        'input':\n",
    "            {\n",
    "                'knapsack_max_weight': 15,\n",
    "                'items': [Item(10, 7), Item(9, 8), Item(5, 6)]}},\n",
    "    {\n",
    "        'correct_output': 13,\n",
    "        'input':\n",
    "            {\n",
    "                'knapsack_max_weight': 25,\n",
    "                'items': [Item(10, 2), Item(29, 10), Item(5, 7), Item(5, 3), Item(5, 1), Item(24, 12)]}}]\n",
    "\n",
    "for test in tests:\n",
    "    assert test['correct_output'] == max_value(**test['input'])"
   ]
  },
  {
   "cell_type": "markdown",
   "metadata": {
    "graffitiCellId": "id_sczu399"
   },
   "source": [
    "<span class=\"graffiti-highlight graffiti-id_sczu399-id_vljhmf7\"><i></i><button>Show Solution</button></span>"
   ]
  }
 ],
 "metadata": {
  "graffiti": {
   "firstAuthorId": "dev",
   "id": "id_c8cwdgc",
   "language": "EN"
  },
  "kernelspec": {
   "display_name": "Python 3",
   "language": "python",
   "name": "python3"
  },
  "language_info": {
   "codemirror_mode": {
    "name": "ipython",
    "version": 3
   },
   "file_extension": ".py",
   "mimetype": "text/x-python",
   "name": "python",
   "nbconvert_exporter": "python",
   "pygments_lexer": "ipython3",
   "version": "3.6.3"
  }
 },
 "nbformat": 4,
 "nbformat_minor": 2
}
