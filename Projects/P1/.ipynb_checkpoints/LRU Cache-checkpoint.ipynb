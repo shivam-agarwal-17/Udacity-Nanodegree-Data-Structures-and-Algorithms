{
 "cells": [
  {
   "cell_type": "code",
   "execution_count": 91,
   "metadata": {},
   "outputs": [],
   "source": [
    "class Node:\n",
    "    def __init__(self, value, key=None):\n",
    "        self.value = value\n",
    "        self.key = key # we need the node to store the key as well, as when capacity is reached, we need to delete the key\n",
    "        # from hash table, in addition to popping the corresponding value from the double-linked-list\n",
    "        self.prev = None\n",
    "        self.next = None\n",
    "        \n",
    "    def __repr__(self):\n",
    "        return f'Node({self.value})'"
   ]
  },
  {
   "cell_type": "code",
   "execution_count": 92,
   "metadata": {},
   "outputs": [
    {
     "data": {
      "text/plain": [
       "Node(5)"
      ]
     },
     "execution_count": 92,
     "metadata": {},
     "output_type": "execute_result"
    }
   ],
   "source": [
    "# testing node\n",
    "n = Node(5)\n",
    "n"
   ]
  },
  {
   "cell_type": "code",
   "execution_count": 117,
   "metadata": {},
   "outputs": [],
   "source": [
    "class DoublyLinkedList:\n",
    "    def __init__(self):\n",
    "        self.head = None\n",
    "        self.tail = None\n",
    "        \n",
    "    def prepend(self, new_node):\n",
    "        '''\n",
    "        Earlier, I was inserting value, but later realized that prepend I should directly insert node, because when I'm accessing\n",
    "        an element, I can save the node construction cost again.\n",
    "        '''\n",
    "        if self.head is None: # inserting first node in the doubly linked list\n",
    "            self.head = new_node\n",
    "            self.tail = self.head\n",
    "            return\n",
    "        \n",
    "        new_node.next = self.head\n",
    "        self.head.prev = new_node\n",
    "        self.head = new_node\n",
    "        \n",
    "    def pop(self):\n",
    "        if self.head is None: # list is empty\n",
    "            return \n",
    "        \n",
    "        popped_key = self.tail.key\n",
    "        self.tail = self.tail.prev\n",
    "        self.tail.next = None\n",
    "        return popped_key\n",
    "\n",
    "    def remove(self, node):\n",
    "        if self.head is None: # list is empty\n",
    "            return \n",
    "        \n",
    "        if node == self.head:\n",
    "            self.head = self.head.next\n",
    "            self.head.prev = None\n",
    "            \n",
    "        elif node == self.tail:\n",
    "            self.tail = self.tail.prev\n",
    "            self.tail.next = None\n",
    "            \n",
    "        else:\n",
    "            node.prev.next = node.next\n",
    "            node.next.prev = node.prev\n",
    "            \n",
    "            \n",
    "    def __iter__(self):\n",
    "        current = self.head\n",
    "        while current is not None:\n",
    "            yield current.value\n",
    "            current = current.next\n",
    "        \n",
    "    def __repr__(self):\n",
    "        node_list_str = ','.join([str(node) for node in self])\n",
    "        return f\"DoublyLinkedList({node_list_str})\"\n"
   ]
  },
  {
   "cell_type": "code",
   "execution_count": 118,
   "metadata": {},
   "outputs": [
    {
     "data": {
      "text/plain": [
       "DoublyLinkedList(7,15,3,5)"
      ]
     },
     "execution_count": 118,
     "metadata": {},
     "output_type": "execute_result"
    }
   ],
   "source": [
    "# testing double linked list\n",
    "\n",
    "l = DoublyLinkedList()\n",
    "l.prepend(Node(1))\n",
    "l.prepend(Node(5))\n",
    "l.prepend(Node(3))\n",
    "l\n",
    "l.pop()\n",
    "l.prepend(Node(10))\n",
    "l.prepend(Node(15))\n",
    "l.prepend(Node(7))\n",
    "l\n",
    "\n",
    "n = l.head.next.next\n",
    "l.remove(n)\n",
    "l"
   ]
  },
  {
   "cell_type": "code",
   "execution_count": 124,
   "metadata": {},
   "outputs": [],
   "source": [
    "class LRU_Cache:\n",
    "\n",
    "    def __init__(self, capacity):\n",
    "        self.capacity = capacity\n",
    "        self.num_elements = 0\n",
    "        self.table = {} # hash table for storing (key, dll-node) pairs.\n",
    "        self.list = DoublyLinkedList()\n",
    "\n",
    "    def get(self, key):\n",
    "        # Retrieve item from provided key. Return -1 if nonexistent. \n",
    "        if key not in self.table:\n",
    "            return -1\n",
    "        \n",
    "        accessed = self.table[key]\n",
    "        self.list.remove(accessed)\n",
    "        self.list.prepend(accessed)\n",
    "        return accessed.value\n",
    "\n",
    "    def set(self, key, value):\n",
    "        # Set the value if the key is not present in the cache. If the cache is at capacity remove the oldest item.     \n",
    "        if key not in self.table:\n",
    "            if self.num_elements == self.capacity:\n",
    "                popped = self.list.pop()\n",
    "                del self.table[popped]\n",
    "                self.num_elements -= 1\n",
    "                \n",
    "            self.table[key] = Node(value, key)\n",
    "            self.list.prepend(self.table[key])\n",
    "            self.num_elements += 1"
   ]
  },
  {
   "cell_type": "code",
   "execution_count": 125,
   "metadata": {},
   "outputs": [],
   "source": [
    "our_cache = LRU_Cache(5)\n",
    "\n",
    "our_cache.set(1, 1);\n",
    "our_cache.set(2, 2);\n",
    "our_cache.set(3, 3);\n",
    "our_cache.set(4, 4);"
   ]
  },
  {
   "cell_type": "code",
   "execution_count": 126,
   "metadata": {},
   "outputs": [
    {
     "data": {
      "text/plain": [
       "DoublyLinkedList(4,3,2,1)"
      ]
     },
     "execution_count": 126,
     "metadata": {},
     "output_type": "execute_result"
    }
   ],
   "source": [
    "our_cache.list"
   ]
  },
  {
   "cell_type": "code",
   "execution_count": 127,
   "metadata": {},
   "outputs": [
    {
     "name": "stdout",
     "output_type": "stream",
     "text": [
      "1\n",
      "2\n",
      "-1\n"
     ]
    }
   ],
   "source": [
    "print(our_cache.get(1))       # returns 1\n",
    "print(our_cache.get(2))       # returns 2\n",
    "print(our_cache.get(9))       # returns -1 because 9 is not present in the cache"
   ]
  },
  {
   "cell_type": "code",
   "execution_count": 128,
   "metadata": {},
   "outputs": [
    {
     "name": "stdout",
     "output_type": "stream",
     "text": [
      "-1\n"
     ]
    }
   ],
   "source": [
    "our_cache.set(5, 5) \n",
    "our_cache.set(6, 6)\n",
    "\n",
    "print(our_cache.get(3))      # returns -1 because the cache reached it's capacity and 3 was the least recently used entry\n"
   ]
  },
  {
   "cell_type": "code",
   "execution_count": 129,
   "metadata": {},
   "outputs": [
    {
     "data": {
      "text/plain": [
       "DoublyLinkedList(6,5,2,1,4)"
      ]
     },
     "execution_count": 129,
     "metadata": {},
     "output_type": "execute_result"
    }
   ],
   "source": [
    "our_cache.list"
   ]
  },
  {
   "cell_type": "code",
   "execution_count": 130,
   "metadata": {},
   "outputs": [
    {
     "data": {
      "text/plain": [
       "DoublyLinkedList(7,6,5,2,1)"
      ]
     },
     "execution_count": 130,
     "metadata": {},
     "output_type": "execute_result"
    }
   ],
   "source": [
    "our_cache.set(7, 7)\n",
    "our_cache.list"
   ]
  },
  {
   "cell_type": "code",
   "execution_count": 131,
   "metadata": {},
   "outputs": [
    {
     "data": {
      "text/plain": [
       "-1"
      ]
     },
     "execution_count": 131,
     "metadata": {},
     "output_type": "execute_result"
    }
   ],
   "source": [
    "our_cache.get(4)"
   ]
  },
  {
   "cell_type": "code",
   "execution_count": 132,
   "metadata": {},
   "outputs": [
    {
     "data": {
      "text/plain": [
       "2"
      ]
     },
     "execution_count": 132,
     "metadata": {},
     "output_type": "execute_result"
    }
   ],
   "source": [
    "our_cache.get(2)"
   ]
  },
  {
   "cell_type": "code",
   "execution_count": 133,
   "metadata": {},
   "outputs": [
    {
     "data": {
      "text/plain": [
       "DoublyLinkedList(2,7,6,5,1)"
      ]
     },
     "execution_count": 133,
     "metadata": {},
     "output_type": "execute_result"
    }
   ],
   "source": [
    "our_cache.list"
   ]
  },
  {
   "cell_type": "code",
   "execution_count": 134,
   "metadata": {},
   "outputs": [],
   "source": [
    "our_cache.set(6, 10)"
   ]
  },
  {
   "cell_type": "code",
   "execution_count": 135,
   "metadata": {},
   "outputs": [
    {
     "data": {
      "text/plain": [
       "DoublyLinkedList(2,7,6,5,1)"
      ]
     },
     "execution_count": 135,
     "metadata": {},
     "output_type": "execute_result"
    }
   ],
   "source": [
    "our_cache.list\n"
   ]
  },
  {
   "cell_type": "code",
   "execution_count": null,
   "metadata": {},
   "outputs": [],
   "source": []
  }
 ],
 "metadata": {
  "kernelspec": {
   "display_name": "Python 3",
   "language": "python",
   "name": "python3"
  },
  "language_info": {
   "codemirror_mode": {
    "name": "ipython",
    "version": 3
   },
   "file_extension": ".py",
   "mimetype": "text/x-python",
   "name": "python",
   "nbconvert_exporter": "python",
   "pygments_lexer": "ipython3",
   "version": "3.7.4"
  }
 },
 "nbformat": 4,
 "nbformat_minor": 2
}
