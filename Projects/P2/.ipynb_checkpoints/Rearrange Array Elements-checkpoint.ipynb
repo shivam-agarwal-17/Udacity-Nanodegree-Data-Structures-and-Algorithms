{
 "cells": [
  {
   "cell_type": "code",
   "execution_count": 7,
   "metadata": {},
   "outputs": [],
   "source": [
    "def down_heapify(arr, n, index):\n",
    "    '''\n",
    "    Performs down heapify operation on node in index, i of the array, arr containing n elements.\n",
    "    '''\n",
    "    \n",
    "    assert(index < n)\n",
    "    \n",
    "    left_index = 2 * index + 1\n",
    "    right_index = 2 * index + 2\n",
    "    \n",
    "    max_node_idx = index\n",
    "    if left_index < n and arr[left_index] > arr[index]:\n",
    "        max_node_idx = left_index\n",
    "        \n",
    "    if right_index < n and arr[right_index] > arr[max_node_idx]:\n",
    "        max_node_idx = right_index\n",
    "        \n",
    "    if max_node_idx != index:\n",
    "        arr[max_node_idx], arr[index] = arr[index], arr[max_node_idx]\n",
    "        down_heapify(arr, n, max_node_idx)\n",
    "        \n",
    "def build_heap(arr):\n",
    "    '''\n",
    "    Converts array, arr to a max-heap by calling down_heapfy() starting from last array index, and going upto 0\n",
    "    '''\n",
    "    for i in range(len(arr)-1, -1, -1):\n",
    "        down_heapify(arr, len(arr), i)\n",
    "        \n",
    "def heapsort(arr):\n",
    "    '''\n",
    "    Performs heapsort on array, arr\n",
    "    Steps:\n",
    "    1. convert the array to max-heap\n",
    "    2. swap last element with first element (max element)\n",
    "    3. call down_heapify() on first element, considering only n-1 entries of the array\n",
    "    4. repeat steps, 2 and 3\n",
    "    '''\n",
    "    \n",
    "    # build max heap\n",
    "    build_heap(arr)\n",
    "    \n",
    "    last_index = len(arr) - 1\n",
    "    \n",
    "    while last_index > 0:\n",
    "        arr[last_index], arr[0] = arr[0], arr[last_index] # swap last element with max element\n",
    "        down_heapify(arr, last_index, 0)\n",
    "        last_index -= 1"
   ]
  },
  {
   "cell_type": "code",
   "execution_count": 11,
   "metadata": {},
   "outputs": [],
   "source": [
    "def rearrange_digits(input_list):\n",
    "    \"\"\"\n",
    "    Rearrange Array Elements so as to form two number such that their sum is maximum.\n",
    "\n",
    "    Args:\n",
    "       input_list(list): Input List\n",
    "    Returns:\n",
    "       (int),(int): Two maximum sums\n",
    "    \"\"\"\n",
    "    heapsort(input_list)\n",
    "    \n",
    "    num_1, num_2 = 0, 0\n",
    "    \n",
    "    multiplier = 1\n",
    "    idx = 0\n",
    "    while idx < len(input_list)-1:\n",
    "        num_1 += input_list[idx]*multiplier\n",
    "        num_2 += input_list[idx+1]*multiplier\n",
    "        multiplier *= 10\n",
    "        idx += 2\n",
    "    \n",
    "    if idx < len(input_list):\n",
    "        num_1 += input_list[idx]*multiplier\n",
    "        \n",
    "    return [num_1, num_2]"
   ]
  },
  {
   "cell_type": "code",
   "execution_count": 14,
   "metadata": {},
   "outputs": [
    {
     "name": "stdout",
     "output_type": "stream",
     "text": [
      "Pass\n",
      "Pass\n"
     ]
    }
   ],
   "source": [
    "def test_function(test_case):\n",
    "    output = rearrange_digits(test_case[0])\n",
    "    solution = test_case[1]\n",
    "    if sum(output) == sum(solution):\n",
    "        print(\"Pass\")\n",
    "    else:\n",
    "        print(\"Fail\")\n",
    "\n",
    "test_function([[1, 2, 3, 4, 5], [542, 31]])\n",
    "test_function([[4, 6, 2, 5, 9, 8],[964, 852]])"
   ]
  },
  {
   "cell_type": "code",
   "execution_count": null,
   "metadata": {},
   "outputs": [],
   "source": []
  }
 ],
 "metadata": {
  "kernelspec": {
   "display_name": "Python 3",
   "language": "python",
   "name": "python3"
  },
  "language_info": {
   "codemirror_mode": {
    "name": "ipython",
    "version": 3
   },
   "file_extension": ".py",
   "mimetype": "text/x-python",
   "name": "python",
   "nbconvert_exporter": "python",
   "pygments_lexer": "ipython3",
   "version": "3.7.4"
  }
 },
 "nbformat": 4,
 "nbformat_minor": 2
}
