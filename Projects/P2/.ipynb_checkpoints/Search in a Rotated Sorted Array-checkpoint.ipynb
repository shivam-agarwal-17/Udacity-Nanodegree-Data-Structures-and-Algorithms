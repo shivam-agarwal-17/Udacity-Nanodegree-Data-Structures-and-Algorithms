{
 "cells": [
  {
   "cell_type": "markdown",
   "metadata": {},
   "source": [
    "My idea: I'm thinking first to find the pivot in O(log n) and then, do a modified binary search knowing the picot of sorted array, again in O(log n). As given in the problem statement, I have assumed that the input array has no duplicates. EDIT: The idea was correct but I couldn't make the code for search_pivot() work in all cases, so referred here: https://www.geeksforgeeks.org/search-an-element-in-a-sorted-and-pivoted-array/"
   ]
  },
  {
   "cell_type": "code",
   "execution_count": 7,
   "metadata": {},
   "outputs": [],
   "source": [
    "def  _search_pivot_helper(arr, start, end):\n",
    "    if end < start:\n",
    "        return -1\n",
    "    \n",
    "    if end == start:\n",
    "        return start\n",
    "    \n",
    "    mid = (start + end) // 2\n",
    "    \n",
    "    if mid < end and arr[mid] > arr[mid+1]: # 'mid < end' check is to ensure that mid+1 index exists\n",
    "        return mid+1\n",
    "    \n",
    "    if mid > start and arr[mid] < arr[mid-1]:\n",
    "        return mid\n",
    "        \n",
    "    if arr[mid] < arr[end]: # part from mid to end is sorted, that means pivot sould be in part between start to mid-1\n",
    "        return _search_pivot_helper(arr, start, mid-1)\n",
    "    else: # pivot sould be in part between mid+1 to end\n",
    "        return _search_pivot_helper(arr, mid+1, end)\n",
    "\n",
    "def search_pivot(arr):\n",
    "    return _search_pivot_helper(arr, 0, len(arr)-1)"
   ]
  },
  {
   "cell_type": "code",
   "execution_count": 8,
   "metadata": {},
   "outputs": [
    {
     "name": "stdout",
     "output_type": "stream",
     "text": [
      "[0, 1, 2, 4, 5, 6, 7]\n",
      "0\n",
      "[1, 2, 4, 5, 6, 7, 0]\n",
      "6\n",
      "[2, 4, 5, 6, 7, 0, 1]\n",
      "5\n",
      "[4, 5, 6, 7, 0, 1, 2]\n",
      "4\n",
      "[5, 6, 7, 0, 1, 2, 4]\n",
      "3\n",
      "[6, 7, 0, 1, 2, 4, 5]\n",
      "2\n",
      "[7, 0, 1, 2, 4, 5, 6]\n",
      "1\n"
     ]
    }
   ],
   "source": [
    "# # Testing search_pivot() - works!\n",
    "# A = [0,1,2,4,5,6,7]\n",
    "\n",
    "# rotate = lambda l, n : l[n:] + l[:n]\n",
    "# for shift in range(7):\n",
    "#     rot_A = rotate(A, shift)\n",
    "#     print(rot_A)\n",
    "#     print(search_pivot(rot_A))"
   ]
  },
  {
   "cell_type": "code",
   "execution_count": 15,
   "metadata": {},
   "outputs": [],
   "source": [
    "def _rotated_array_search_helper(input_list, number, start_index, end_index):\n",
    "    \n",
    "    '''\n",
    "    NOTE: same as binary search with slight modification, that start_index and end_index, don't have to within\n",
    "    the array size bounds, but mid_index, that is used for accessing into the array should be within the bounds. \n",
    "    That is ensured by taking its modulo with len(array) before accessing the array element at mid_index.\n",
    "    '''\n",
    "    \n",
    "    if start_index > end_index:\n",
    "        return -1\n",
    "    \n",
    "    mid = (start_index + end_index)//2\n",
    "    mid_index = mid % len(input_list)\n",
    "        \n",
    "    if input_list[mid_index] == number:\n",
    "        return mid_index\n",
    "    elif input_list[mid_index] < number:\n",
    "        return _rotated_array_search_helper(input_list, number, mid+1, end_index)\n",
    "    else:\n",
    "        return _rotated_array_search_helper(input_list, number, start_index, mid-1)\n",
    "\n",
    "def rotated_array_search(input_list, number):\n",
    "    \"\"\"\n",
    "    Find the index by searching in a rotated sorted array\n",
    "\n",
    "    Args:\n",
    "       input_list(array), number(int): Input array to search and the target\n",
    "    Returns:\n",
    "       int: Index or -1\n",
    "    \"\"\"\n",
    "    \n",
    "    pivot = search_pivot(input_list)\n",
    "    return _rotated_array_search_helper(input_list, number, pivot, len(input_list)-1+pivot)\n"
   ]
  },
  {
   "cell_type": "code",
   "execution_count": 17,
   "metadata": {},
   "outputs": [
    {
     "name": "stdout",
     "output_type": "stream",
     "text": [
      "[0, 1, 2, 4, 5, 6, 7]\n",
      "0\n",
      "[1, 2, 4, 5, 6, 7, 0]\n",
      "6\n",
      "[2, 4, 5, 6, 7, 0, 1]\n",
      "5\n",
      "[4, 5, 6, 7, 0, 1, 2]\n",
      "4\n",
      "[5, 6, 7, 0, 1, 2, 4]\n",
      "3\n",
      "[6, 7, 0, 1, 2, 4, 5]\n",
      "2\n",
      "[7, 0, 1, 2, 4, 5, 6]\n",
      "1\n"
     ]
    }
   ],
   "source": [
    "# Testing rotated_array_search() - works!\n",
    "A = [0,1,2,4,5,6,7]\n",
    "\n",
    "rotate = lambda l, n : l[n:] + l[:n]\n",
    "for shift in range(7):\n",
    "    rot_A = rotate(A, shift)\n",
    "    print(rot_A)\n",
    "    print(rotated_array_search(rot_A, 0))"
   ]
  },
  {
   "cell_type": "code",
   "execution_count": 18,
   "metadata": {},
   "outputs": [
    {
     "name": "stdout",
     "output_type": "stream",
     "text": [
      "Pass\n",
      "Pass\n",
      "Pass\n",
      "Pass\n",
      "Pass\n"
     ]
    }
   ],
   "source": [
    "def linear_search(input_list, number):\n",
    "    for index, element in enumerate(input_list):\n",
    "        if element == number:\n",
    "            return index\n",
    "    return -1\n",
    "\n",
    "def test_function(test_case):\n",
    "    input_list = test_case[0]\n",
    "    number = test_case[1]\n",
    "    if linear_search(input_list, number) == rotated_array_search(input_list, number):\n",
    "        print(\"Pass\")\n",
    "    else:\n",
    "        print(\"Fail\")\n",
    "\n",
    "test_function([[6, 7, 8, 9, 10, 1, 2, 3, 4], 6])\n",
    "test_function([[6, 7, 8, 9, 10, 1, 2, 3, 4], 1])\n",
    "test_function([[6, 7, 8, 1, 2, 3, 4], 8])\n",
    "test_function([[6, 7, 8, 1, 2, 3, 4], 1])\n",
    "test_function([[6, 7, 8, 1, 2, 3, 4], 10])"
   ]
  },
  {
   "cell_type": "code",
   "execution_count": null,
   "metadata": {},
   "outputs": [],
   "source": []
  }
 ],
 "metadata": {
  "kernelspec": {
   "display_name": "Python 3",
   "language": "python",
   "name": "python3"
  },
  "language_info": {
   "codemirror_mode": {
    "name": "ipython",
    "version": 3
   },
   "file_extension": ".py",
   "mimetype": "text/x-python",
   "name": "python",
   "nbconvert_exporter": "python",
   "pygments_lexer": "ipython3",
   "version": "3.7.4"
  }
 },
 "nbformat": 4,
 "nbformat_minor": 2
}
