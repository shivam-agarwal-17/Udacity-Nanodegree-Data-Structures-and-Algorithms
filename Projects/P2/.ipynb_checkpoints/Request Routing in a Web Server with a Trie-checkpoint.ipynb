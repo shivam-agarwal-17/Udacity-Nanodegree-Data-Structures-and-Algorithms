{
 "cells": [
  {
   "cell_type": "code",
   "execution_count": 74,
   "metadata": {},
   "outputs": [],
   "source": [
    "# A RouteTrieNode\n",
    "class RouteTrieNode:\n",
    "    def __init__(self, handler=None):\n",
    "        \"\"\" Initialize the node with children and a handler \"\"\"\n",
    "        self.children = {}\n",
    "        self.handler = handler\n",
    "\n",
    "    def insert(self, path_segment):\n",
    "        \"\"\" Insert a new node, which represents a segment of the split path \"\"\"\n",
    "        self.children[path_segment] = RouteTrieNode()\n",
    "\n",
    "# A RouteTrie will store our routes and their associated handlers\n",
    "class RouteTrie:\n",
    "    def __init__(self, handler=None):\n",
    "        \"\"\" Initialize the trie with an root node and a handler \"\"\"\n",
    "        self.root = RouteTrieNode(handler)\n",
    "\n",
    "    def insert(self, list_path_segments, handler):\n",
    "        \"\"\" Insert (split )path and corresponding handler \"\"\"\n",
    "        current_node = self.root\n",
    "        for segment in list_path_segments:\n",
    "            if segment not in current_node.children:\n",
    "                current_node.insert(segment)\n",
    "            current_node = current_node.children[segment]\n",
    "        current_node.handler = handler\n",
    "\n",
    "    def find(self, list_path_segments):\n",
    "        \"\"\" Return the handler for (split) path supplied, or None if no match found\"\"\"\n",
    "        current_node = self.root\n",
    "        for segment in list_path_segments:\n",
    "            if segment not in current_node.children:\n",
    "                return None\n",
    "            current_node = current_node.children[segment]\n",
    "        return current_node.handler "
   ]
  },
  {
   "cell_type": "code",
   "execution_count": 75,
   "metadata": {},
   "outputs": [],
   "source": [
    "# The Router class will wrap the Trie and handle \n",
    "class Router:\n",
    "    def __init__(self, root_handler=None, not_found_handler=None):\n",
    "        \"\"\" Create a new RouteTrie for holding our routes \"\"\"\n",
    "        self.trie = RouteTrie(root_handler)\n",
    "        self.not_found_handler = not_found_handler\n",
    "\n",
    "    def add_handler(self, path, handler):\n",
    "        \"\"\" Add a handler for a path \"\"\"\n",
    "        self.trie.insert(self.split_path(path), handler)\n",
    "\n",
    "    def lookup(self, path):\n",
    "        \"\"\" lookup path (by parts) and return the associated handler \"\"\"\n",
    "        search = self.trie.find(self.split_path(path))\n",
    "        if search is None:\n",
    "            search = self.not_found_handler\n",
    "        return search\n",
    "\n",
    "    def split_path(self, path):\n",
    "        \"\"\" split the path into parts \"\"\"\n",
    "        path_split = path.split('/')\n",
    "\n",
    "        if path_split[0] == '':\n",
    "            path_split.pop(0)\n",
    "        if path_split[-1] == '':\n",
    "            path_split.pop(-1)\n",
    "\n",
    "        return path_split\n"
   ]
  },
  {
   "cell_type": "code",
   "execution_count": 76,
   "metadata": {},
   "outputs": [
    {
     "name": "stdout",
     "output_type": "stream",
     "text": [
      "root handler\n",
      "not found handler\n",
      "about handler\n",
      "about handler\n",
      "not found handler\n"
     ]
    }
   ],
   "source": [
    "# Here are some test cases and expected outputs you can use to test your implementation\n",
    "\n",
    "# create the router and add a route\n",
    "router = Router(\"root handler\", \"not found handler\") # remove the 'not found handler' if you did not implement this\n",
    "router.add_handler(\"/home/about\", \"about handler\")  # add a route\n",
    "\n",
    "# # some lookups with the expected output\n",
    "print(router.lookup(\"/\")) # should print 'root handler'\n",
    "print(router.lookup(\"/home\")) # should print 'not found handler' or None if you did not implement one\n",
    "print(router.lookup(\"/home/about\")) # should print 'about handler'\n",
    "print(router.lookup(\"/home/about/\")) # should print 'about handler' or None if you did not handle trailing slashes\n",
    "print(router.lookup(\"/home/about/me\")) # should print 'not found handler' or None if you did not implement one"
   ]
  },
  {
   "cell_type": "code",
   "execution_count": null,
   "metadata": {},
   "outputs": [],
   "source": []
  }
 ],
 "metadata": {
  "kernelspec": {
   "display_name": "Python 3",
   "language": "python",
   "name": "python3"
  },
  "language_info": {
   "codemirror_mode": {
    "name": "ipython",
    "version": 3
   },
   "file_extension": ".py",
   "mimetype": "text/x-python",
   "name": "python",
   "nbconvert_exporter": "python",
   "pygments_lexer": "ipython3",
   "version": "3.7.4"
  }
 },
 "nbformat": 4,
 "nbformat_minor": 2
}
